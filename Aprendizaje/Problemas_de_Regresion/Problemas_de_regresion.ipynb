{
  "cells": [
    {
      "cell_type": "markdown",
      "metadata": {
        "id": "lNGhVsWpoZmm"
      },
      "source": [
        "## Problemas de regresion\n",
        "\n",
        "Ernesto Reynoso Lizárraga A01639915"
      ]
    },
    {
      "cell_type": "code",
      "execution_count": null,
      "metadata": {
        "id": "xQjXRgaAk44t"
      },
      "outputs": [],
      "source": [
        "import pandas as pd\n",
        "import numpy as np\n",
        "import matplotlib.pyplot as plt\n",
        "import seaborn as sns\n",
        "from sklearn import datasets\n",
        "from sklearn import linear_model\n",
        "from sklearn.preprocessing import StandardScaler,LabelEncoder\n",
        "from sklearn.model_selection import KFold, LeaveOneOut, ShuffleSplit, train_test_split, cross_val_score\n",
        "from sklearn.metrics import mean_squared_error, mean_absolute_error, r2_score\n",
        "from sklearn.linear_model import Lasso, LassoCV\n",
        "from sklearn.feature_selection import SelectKBest, r_regression, SequentialFeatureSelector, RFE\n",
        "from sklearn.neighbors import KNeighborsRegressor\n",
        "from sklearn.tree import DecisionTreeRegressor\n",
        "from sklearn.ensemble import RandomForestRegressor"
      ]
    },
    {
      "cell_type": "markdown",
      "metadata": {
        "id": "HtXYCMa80iYP"
      },
      "source": [
        "##Problema 1"
      ]
    },
    {
      "cell_type": "code",
      "execution_count": null,
      "metadata": {
        "colab": {
          "base_uri": "https://localhost:8080/",
          "height": 206
        },
        "id": "h7XkB_i7nj7R",
        "outputId": "f0f325a6-d6f3-4554-b4f1-9f9334ede2fa"
      },
      "outputs": [
        {
          "output_type": "execute_result",
          "data": {
            "text/plain": [
              "  State    VR    MR     M     W     H     P     S\n",
              "0    AK   761   9.0  41.8  75.2  86.6   9.1  14.3\n",
              "1    AL   780  11.6  67.4  73.5  66.9  17.4  11.5\n",
              "2    AR   593  10.2  44.7  82.9  66.3  20.0  10.7\n",
              "3    AZ   715   8.6  84.7  88.6  78.7  15.4  12.1\n",
              "4    CA  1078  13.1  96.7  79.3  76.2  18.2  12.5"
            ],
            "text/html": [
              "\n",
              "  <div id=\"df-e3c23d63-05f1-4124-b249-98ef1d17982a\" class=\"colab-df-container\">\n",
              "    <div>\n",
              "<style scoped>\n",
              "    .dataframe tbody tr th:only-of-type {\n",
              "        vertical-align: middle;\n",
              "    }\n",
              "\n",
              "    .dataframe tbody tr th {\n",
              "        vertical-align: top;\n",
              "    }\n",
              "\n",
              "    .dataframe thead th {\n",
              "        text-align: right;\n",
              "    }\n",
              "</style>\n",
              "<table border=\"1\" class=\"dataframe\">\n",
              "  <thead>\n",
              "    <tr style=\"text-align: right;\">\n",
              "      <th></th>\n",
              "      <th>State</th>\n",
              "      <th>VR</th>\n",
              "      <th>MR</th>\n",
              "      <th>M</th>\n",
              "      <th>W</th>\n",
              "      <th>H</th>\n",
              "      <th>P</th>\n",
              "      <th>S</th>\n",
              "    </tr>\n",
              "  </thead>\n",
              "  <tbody>\n",
              "    <tr>\n",
              "      <th>0</th>\n",
              "      <td>AK</td>\n",
              "      <td>761</td>\n",
              "      <td>9.0</td>\n",
              "      <td>41.8</td>\n",
              "      <td>75.2</td>\n",
              "      <td>86.6</td>\n",
              "      <td>9.1</td>\n",
              "      <td>14.3</td>\n",
              "    </tr>\n",
              "    <tr>\n",
              "      <th>1</th>\n",
              "      <td>AL</td>\n",
              "      <td>780</td>\n",
              "      <td>11.6</td>\n",
              "      <td>67.4</td>\n",
              "      <td>73.5</td>\n",
              "      <td>66.9</td>\n",
              "      <td>17.4</td>\n",
              "      <td>11.5</td>\n",
              "    </tr>\n",
              "    <tr>\n",
              "      <th>2</th>\n",
              "      <td>AR</td>\n",
              "      <td>593</td>\n",
              "      <td>10.2</td>\n",
              "      <td>44.7</td>\n",
              "      <td>82.9</td>\n",
              "      <td>66.3</td>\n",
              "      <td>20.0</td>\n",
              "      <td>10.7</td>\n",
              "    </tr>\n",
              "    <tr>\n",
              "      <th>3</th>\n",
              "      <td>AZ</td>\n",
              "      <td>715</td>\n",
              "      <td>8.6</td>\n",
              "      <td>84.7</td>\n",
              "      <td>88.6</td>\n",
              "      <td>78.7</td>\n",
              "      <td>15.4</td>\n",
              "      <td>12.1</td>\n",
              "    </tr>\n",
              "    <tr>\n",
              "      <th>4</th>\n",
              "      <td>CA</td>\n",
              "      <td>1078</td>\n",
              "      <td>13.1</td>\n",
              "      <td>96.7</td>\n",
              "      <td>79.3</td>\n",
              "      <td>76.2</td>\n",
              "      <td>18.2</td>\n",
              "      <td>12.5</td>\n",
              "    </tr>\n",
              "  </tbody>\n",
              "</table>\n",
              "</div>\n",
              "    <div class=\"colab-df-buttons\">\n",
              "\n",
              "  <div class=\"colab-df-container\">\n",
              "    <button class=\"colab-df-convert\" onclick=\"convertToInteractive('df-e3c23d63-05f1-4124-b249-98ef1d17982a')\"\n",
              "            title=\"Convert this dataframe to an interactive table.\"\n",
              "            style=\"display:none;\">\n",
              "\n",
              "  <svg xmlns=\"http://www.w3.org/2000/svg\" height=\"24px\" viewBox=\"0 -960 960 960\">\n",
              "    <path d=\"M120-120v-720h720v720H120Zm60-500h600v-160H180v160Zm220 220h160v-160H400v160Zm0 220h160v-160H400v160ZM180-400h160v-160H180v160Zm440 0h160v-160H620v160ZM180-180h160v-160H180v160Zm440 0h160v-160H620v160Z\"/>\n",
              "  </svg>\n",
              "    </button>\n",
              "\n",
              "  <style>\n",
              "    .colab-df-container {\n",
              "      display:flex;\n",
              "      gap: 12px;\n",
              "    }\n",
              "\n",
              "    .colab-df-convert {\n",
              "      background-color: #E8F0FE;\n",
              "      border: none;\n",
              "      border-radius: 50%;\n",
              "      cursor: pointer;\n",
              "      display: none;\n",
              "      fill: #1967D2;\n",
              "      height: 32px;\n",
              "      padding: 0 0 0 0;\n",
              "      width: 32px;\n",
              "    }\n",
              "\n",
              "    .colab-df-convert:hover {\n",
              "      background-color: #E2EBFA;\n",
              "      box-shadow: 0px 1px 2px rgba(60, 64, 67, 0.3), 0px 1px 3px 1px rgba(60, 64, 67, 0.15);\n",
              "      fill: #174EA6;\n",
              "    }\n",
              "\n",
              "    .colab-df-buttons div {\n",
              "      margin-bottom: 4px;\n",
              "    }\n",
              "\n",
              "    [theme=dark] .colab-df-convert {\n",
              "      background-color: #3B4455;\n",
              "      fill: #D2E3FC;\n",
              "    }\n",
              "\n",
              "    [theme=dark] .colab-df-convert:hover {\n",
              "      background-color: #434B5C;\n",
              "      box-shadow: 0px 1px 3px 1px rgba(0, 0, 0, 0.15);\n",
              "      filter: drop-shadow(0px 1px 2px rgba(0, 0, 0, 0.3));\n",
              "      fill: #FFFFFF;\n",
              "    }\n",
              "  </style>\n",
              "\n",
              "    <script>\n",
              "      const buttonEl =\n",
              "        document.querySelector('#df-e3c23d63-05f1-4124-b249-98ef1d17982a button.colab-df-convert');\n",
              "      buttonEl.style.display =\n",
              "        google.colab.kernel.accessAllowed ? 'block' : 'none';\n",
              "\n",
              "      async function convertToInteractive(key) {\n",
              "        const element = document.querySelector('#df-e3c23d63-05f1-4124-b249-98ef1d17982a');\n",
              "        const dataTable =\n",
              "          await google.colab.kernel.invokeFunction('convertToInteractive',\n",
              "                                                    [key], {});\n",
              "        if (!dataTable) return;\n",
              "\n",
              "        const docLinkHtml = 'Like what you see? Visit the ' +\n",
              "          '<a target=\"_blank\" href=https://colab.research.google.com/notebooks/data_table.ipynb>data table notebook</a>'\n",
              "          + ' to learn more about interactive tables.';\n",
              "        element.innerHTML = '';\n",
              "        dataTable['output_type'] = 'display_data';\n",
              "        await google.colab.output.renderOutput(dataTable, element);\n",
              "        const docLink = document.createElement('div');\n",
              "        docLink.innerHTML = docLinkHtml;\n",
              "        element.appendChild(docLink);\n",
              "      }\n",
              "    </script>\n",
              "  </div>\n",
              "\n",
              "\n",
              "<div id=\"df-cb40a895-2b8c-4c2d-aa1d-f1e1a3686fa9\">\n",
              "  <button class=\"colab-df-quickchart\" onclick=\"quickchart('df-cb40a895-2b8c-4c2d-aa1d-f1e1a3686fa9')\"\n",
              "            title=\"Suggest charts.\"\n",
              "            style=\"display:none;\">\n",
              "\n",
              "<svg xmlns=\"http://www.w3.org/2000/svg\" height=\"24px\"viewBox=\"0 0 24 24\"\n",
              "     width=\"24px\">\n",
              "    <g>\n",
              "        <path d=\"M19 3H5c-1.1 0-2 .9-2 2v14c0 1.1.9 2 2 2h14c1.1 0 2-.9 2-2V5c0-1.1-.9-2-2-2zM9 17H7v-7h2v7zm4 0h-2V7h2v10zm4 0h-2v-4h2v4z\"/>\n",
              "    </g>\n",
              "</svg>\n",
              "  </button>\n",
              "\n",
              "<style>\n",
              "  .colab-df-quickchart {\n",
              "    background-color: #E8F0FE;\n",
              "    border: none;\n",
              "    border-radius: 50%;\n",
              "    cursor: pointer;\n",
              "    display: none;\n",
              "    fill: #1967D2;\n",
              "    height: 32px;\n",
              "    padding: 0 0 0 0;\n",
              "    width: 32px;\n",
              "  }\n",
              "\n",
              "  .colab-df-quickchart:hover {\n",
              "    background-color: #E2EBFA;\n",
              "    box-shadow: 0px 1px 2px rgba(60, 64, 67, 0.3), 0px 1px 3px 1px rgba(60, 64, 67, 0.15);\n",
              "    fill: #174EA6;\n",
              "  }\n",
              "\n",
              "  [theme=dark] .colab-df-quickchart {\n",
              "    background-color: #3B4455;\n",
              "    fill: #D2E3FC;\n",
              "  }\n",
              "\n",
              "  [theme=dark] .colab-df-quickchart:hover {\n",
              "    background-color: #434B5C;\n",
              "    box-shadow: 0px 1px 3px 1px rgba(0, 0, 0, 0.15);\n",
              "    filter: drop-shadow(0px 1px 2px rgba(0, 0, 0, 0.3));\n",
              "    fill: #FFFFFF;\n",
              "  }\n",
              "</style>\n",
              "\n",
              "  <script>\n",
              "    async function quickchart(key) {\n",
              "      const charts = await google.colab.kernel.invokeFunction(\n",
              "          'suggestCharts', [key], {});\n",
              "    }\n",
              "    (() => {\n",
              "      let quickchartButtonEl =\n",
              "        document.querySelector('#df-cb40a895-2b8c-4c2d-aa1d-f1e1a3686fa9 button');\n",
              "      quickchartButtonEl.style.display =\n",
              "        google.colab.kernel.accessAllowed ? 'block' : 'none';\n",
              "    })();\n",
              "  </script>\n",
              "</div>\n",
              "    </div>\n",
              "  </div>\n"
            ]
          },
          "metadata": {},
          "execution_count": 3
        }
      ],
      "source": [
        "df = pd.read_csv(\"/content/drive/MyDrive/Inteligencia Artificial/crime_data.csv\")\n",
        "df.head()"
      ]
    },
    {
      "cell_type": "markdown",
      "metadata": {
        "id": "1I-Ev3FehbAH"
      },
      "source": [
        "###Grafica cada variable predictora vs la variable de respuesta asignadas a tu número de matrícula."
      ]
    },
    {
      "cell_type": "code",
      "execution_count": null,
      "metadata": {
        "colab": {
          "base_uri": "https://localhost:8080/",
          "height": 206
        },
        "id": "AOT_bDyqDEaP",
        "outputId": "223b718a-fe27-4ecc-ff7c-13cf2a44565b"
      },
      "outputs": [
        {
          "output_type": "execute_result",
          "data": {
            "text/plain": [
              "     MR     M     W     H     S\n",
              "0   9.0  41.8  75.2  86.6  14.3\n",
              "1  11.6  67.4  73.5  66.9  11.5\n",
              "2  10.2  44.7  82.9  66.3  10.7\n",
              "3   8.6  84.7  88.6  78.7  12.1\n",
              "4  13.1  96.7  79.3  76.2  12.5"
            ],
            "text/html": [
              "\n",
              "  <div id=\"df-6574247d-a791-442d-ba95-8e755a41fedc\" class=\"colab-df-container\">\n",
              "    <div>\n",
              "<style scoped>\n",
              "    .dataframe tbody tr th:only-of-type {\n",
              "        vertical-align: middle;\n",
              "    }\n",
              "\n",
              "    .dataframe tbody tr th {\n",
              "        vertical-align: top;\n",
              "    }\n",
              "\n",
              "    .dataframe thead th {\n",
              "        text-align: right;\n",
              "    }\n",
              "</style>\n",
              "<table border=\"1\" class=\"dataframe\">\n",
              "  <thead>\n",
              "    <tr style=\"text-align: right;\">\n",
              "      <th></th>\n",
              "      <th>MR</th>\n",
              "      <th>M</th>\n",
              "      <th>W</th>\n",
              "      <th>H</th>\n",
              "      <th>S</th>\n",
              "    </tr>\n",
              "  </thead>\n",
              "  <tbody>\n",
              "    <tr>\n",
              "      <th>0</th>\n",
              "      <td>9.0</td>\n",
              "      <td>41.8</td>\n",
              "      <td>75.2</td>\n",
              "      <td>86.6</td>\n",
              "      <td>14.3</td>\n",
              "    </tr>\n",
              "    <tr>\n",
              "      <th>1</th>\n",
              "      <td>11.6</td>\n",
              "      <td>67.4</td>\n",
              "      <td>73.5</td>\n",
              "      <td>66.9</td>\n",
              "      <td>11.5</td>\n",
              "    </tr>\n",
              "    <tr>\n",
              "      <th>2</th>\n",
              "      <td>10.2</td>\n",
              "      <td>44.7</td>\n",
              "      <td>82.9</td>\n",
              "      <td>66.3</td>\n",
              "      <td>10.7</td>\n",
              "    </tr>\n",
              "    <tr>\n",
              "      <th>3</th>\n",
              "      <td>8.6</td>\n",
              "      <td>84.7</td>\n",
              "      <td>88.6</td>\n",
              "      <td>78.7</td>\n",
              "      <td>12.1</td>\n",
              "    </tr>\n",
              "    <tr>\n",
              "      <th>4</th>\n",
              "      <td>13.1</td>\n",
              "      <td>96.7</td>\n",
              "      <td>79.3</td>\n",
              "      <td>76.2</td>\n",
              "      <td>12.5</td>\n",
              "    </tr>\n",
              "  </tbody>\n",
              "</table>\n",
              "</div>\n",
              "    <div class=\"colab-df-buttons\">\n",
              "\n",
              "  <div class=\"colab-df-container\">\n",
              "    <button class=\"colab-df-convert\" onclick=\"convertToInteractive('df-6574247d-a791-442d-ba95-8e755a41fedc')\"\n",
              "            title=\"Convert this dataframe to an interactive table.\"\n",
              "            style=\"display:none;\">\n",
              "\n",
              "  <svg xmlns=\"http://www.w3.org/2000/svg\" height=\"24px\" viewBox=\"0 -960 960 960\">\n",
              "    <path d=\"M120-120v-720h720v720H120Zm60-500h600v-160H180v160Zm220 220h160v-160H400v160Zm0 220h160v-160H400v160ZM180-400h160v-160H180v160Zm440 0h160v-160H620v160ZM180-180h160v-160H180v160Zm440 0h160v-160H620v160Z\"/>\n",
              "  </svg>\n",
              "    </button>\n",
              "\n",
              "  <style>\n",
              "    .colab-df-container {\n",
              "      display:flex;\n",
              "      gap: 12px;\n",
              "    }\n",
              "\n",
              "    .colab-df-convert {\n",
              "      background-color: #E8F0FE;\n",
              "      border: none;\n",
              "      border-radius: 50%;\n",
              "      cursor: pointer;\n",
              "      display: none;\n",
              "      fill: #1967D2;\n",
              "      height: 32px;\n",
              "      padding: 0 0 0 0;\n",
              "      width: 32px;\n",
              "    }\n",
              "\n",
              "    .colab-df-convert:hover {\n",
              "      background-color: #E2EBFA;\n",
              "      box-shadow: 0px 1px 2px rgba(60, 64, 67, 0.3), 0px 1px 3px 1px rgba(60, 64, 67, 0.15);\n",
              "      fill: #174EA6;\n",
              "    }\n",
              "\n",
              "    .colab-df-buttons div {\n",
              "      margin-bottom: 4px;\n",
              "    }\n",
              "\n",
              "    [theme=dark] .colab-df-convert {\n",
              "      background-color: #3B4455;\n",
              "      fill: #D2E3FC;\n",
              "    }\n",
              "\n",
              "    [theme=dark] .colab-df-convert:hover {\n",
              "      background-color: #434B5C;\n",
              "      box-shadow: 0px 1px 3px 1px rgba(0, 0, 0, 0.15);\n",
              "      filter: drop-shadow(0px 1px 2px rgba(0, 0, 0, 0.3));\n",
              "      fill: #FFFFFF;\n",
              "    }\n",
              "  </style>\n",
              "\n",
              "    <script>\n",
              "      const buttonEl =\n",
              "        document.querySelector('#df-6574247d-a791-442d-ba95-8e755a41fedc button.colab-df-convert');\n",
              "      buttonEl.style.display =\n",
              "        google.colab.kernel.accessAllowed ? 'block' : 'none';\n",
              "\n",
              "      async function convertToInteractive(key) {\n",
              "        const element = document.querySelector('#df-6574247d-a791-442d-ba95-8e755a41fedc');\n",
              "        const dataTable =\n",
              "          await google.colab.kernel.invokeFunction('convertToInteractive',\n",
              "                                                    [key], {});\n",
              "        if (!dataTable) return;\n",
              "\n",
              "        const docLinkHtml = 'Like what you see? Visit the ' +\n",
              "          '<a target=\"_blank\" href=https://colab.research.google.com/notebooks/data_table.ipynb>data table notebook</a>'\n",
              "          + ' to learn more about interactive tables.';\n",
              "        element.innerHTML = '';\n",
              "        dataTable['output_type'] = 'display_data';\n",
              "        await google.colab.output.renderOutput(dataTable, element);\n",
              "        const docLink = document.createElement('div');\n",
              "        docLink.innerHTML = docLinkHtml;\n",
              "        element.appendChild(docLink);\n",
              "      }\n",
              "    </script>\n",
              "  </div>\n",
              "\n",
              "\n",
              "<div id=\"df-96529aa8-94d5-477b-94c9-a0792a07d641\">\n",
              "  <button class=\"colab-df-quickchart\" onclick=\"quickchart('df-96529aa8-94d5-477b-94c9-a0792a07d641')\"\n",
              "            title=\"Suggest charts.\"\n",
              "            style=\"display:none;\">\n",
              "\n",
              "<svg xmlns=\"http://www.w3.org/2000/svg\" height=\"24px\"viewBox=\"0 0 24 24\"\n",
              "     width=\"24px\">\n",
              "    <g>\n",
              "        <path d=\"M19 3H5c-1.1 0-2 .9-2 2v14c0 1.1.9 2 2 2h14c1.1 0 2-.9 2-2V5c0-1.1-.9-2-2-2zM9 17H7v-7h2v7zm4 0h-2V7h2v10zm4 0h-2v-4h2v4z\"/>\n",
              "    </g>\n",
              "</svg>\n",
              "  </button>\n",
              "\n",
              "<style>\n",
              "  .colab-df-quickchart {\n",
              "    background-color: #E8F0FE;\n",
              "    border: none;\n",
              "    border-radius: 50%;\n",
              "    cursor: pointer;\n",
              "    display: none;\n",
              "    fill: #1967D2;\n",
              "    height: 32px;\n",
              "    padding: 0 0 0 0;\n",
              "    width: 32px;\n",
              "  }\n",
              "\n",
              "  .colab-df-quickchart:hover {\n",
              "    background-color: #E2EBFA;\n",
              "    box-shadow: 0px 1px 2px rgba(60, 64, 67, 0.3), 0px 1px 3px 1px rgba(60, 64, 67, 0.15);\n",
              "    fill: #174EA6;\n",
              "  }\n",
              "\n",
              "  [theme=dark] .colab-df-quickchart {\n",
              "    background-color: #3B4455;\n",
              "    fill: #D2E3FC;\n",
              "  }\n",
              "\n",
              "  [theme=dark] .colab-df-quickchart:hover {\n",
              "    background-color: #434B5C;\n",
              "    box-shadow: 0px 1px 3px 1px rgba(0, 0, 0, 0.15);\n",
              "    filter: drop-shadow(0px 1px 2px rgba(0, 0, 0, 0.3));\n",
              "    fill: #FFFFFF;\n",
              "  }\n",
              "</style>\n",
              "\n",
              "  <script>\n",
              "    async function quickchart(key) {\n",
              "      const charts = await google.colab.kernel.invokeFunction(\n",
              "          'suggestCharts', [key], {});\n",
              "    }\n",
              "    (() => {\n",
              "      let quickchartButtonEl =\n",
              "        document.querySelector('#df-96529aa8-94d5-477b-94c9-a0792a07d641 button');\n",
              "      quickchartButtonEl.style.display =\n",
              "        google.colab.kernel.accessAllowed ? 'block' : 'none';\n",
              "    })();\n",
              "  </script>\n",
              "</div>\n",
              "    </div>\n",
              "  </div>\n"
            ]
          },
          "metadata": {},
          "execution_count": 4
        }
      ],
      "source": [
        "df = df.drop(['State','VR','P'],axis=1)\n",
        "df.head()"
      ]
    },
    {
      "cell_type": "code",
      "execution_count": null,
      "metadata": {
        "colab": {
          "base_uri": "https://localhost:8080/",
          "height": 756
        },
        "id": "NAxV7yv2AbZT",
        "outputId": "6a4c0d13-0aee-4904-8435-3344d5c24ce8"
      },
      "outputs": [
        {
          "output_type": "display_data",
          "data": {
            "text/plain": [
              "<Figure size 1200x800 with 4 Axes>"
            ],
            "image/png": "[encoded data removed]"
          },
          "metadata": {}
        }
      ],
      "source": [
        "sns.set(style=\"whitegrid\")\n",
        "\n",
        "fig, axes = plt.subplots(nrows=2, ncols=2, figsize=(12, 8))\n",
        "plt.subplots_adjust(hspace=0.5)\n",
        "\n",
        "sns.scatterplot(data=df, x='M', y='MR', ax=axes[0, 0])\n",
        "axes[0, 0].set_title('M vs MR')\n",
        "\n",
        "sns.scatterplot(data=df, x='W', y='MR', ax=axes[0, 1])\n",
        "axes[0, 1].set_title('W vs MR')\n",
        "\n",
        "sns.scatterplot(data=df, x='H', y='MR', ax=axes[1, 0])\n",
        "axes[1, 0].set_title('H vs MR')\n",
        "\n",
        "sns.scatterplot(data=df, x='S', y='MR', ax=axes[1, 1])\n",
        "axes[1, 1].set_title('S vs MR')\n",
        "\n",
        "plt.tight_layout()\n",
        "plt.show()"
      ]
    },
    {
      "cell_type": "markdown",
      "metadata": {
        "id": "aGaoGxPwhw17"
      },
      "source": [
        "###Implementa la fórmula directa para calcular los coeficientes de un modelo de regresión lineal, y obtenga con ella el modelo que corresponde a la variable de respuesta y las variables predictoras asignadas a tu número de matrícula."
      ]
    },
    {
      "cell_type": "code",
      "execution_count": null,
      "metadata": {
        "id": "KlLEylJiGgIq"
      },
      "outputs": [],
      "source": [
        "#Variables regresoras\n",
        "x = np.array(df[['M','W','H','S']])\n",
        "y = np.array(df['MR'])"
      ]
    },
    {
      "cell_type": "code",
      "execution_count": null,
      "metadata": {
        "id": "jp1gDxvCKlkO"
      },
      "outputs": [],
      "source": [
        "#x.insert(0, 'ONES', 1,False)\n",
        "x = np.column_stack((np.ones(x.shape[0]), x))"
      ]
    },
    {
      "cell_type": "markdown",
      "metadata": {
        "id": "YGP4wzxASQU1"
      },
      "source": [
        "###Implementa la fórmula directa para calcular los coeficientes de un modelo de regresión lineal, y obtenga con ella el modelo que corresponde a la variable de respuesta y las variables predictoras asignadas a tu número de matrícula."
      ]
    },
    {
      "cell_type": "code",
      "execution_count": null,
      "metadata": {
        "id": "rCpe0BPBJTUL"
      },
      "outputs": [],
      "source": [
        "# Fit model function (it fits a linear model using the specified data set).\n",
        "def fit_model(x, y):\n",
        "  return np.linalg.inv(x.T @ x) @ x.T @ y\n",
        "# Predict function (it evaluates an array of observations using the specified linear model).\n",
        "def predict(X, beta):\n",
        "  return X @ beta"
      ]
    },
    {
      "cell_type": "code",
      "execution_count": null,
      "metadata": {
        "colab": {
          "base_uri": "https://localhost:8080/"
        },
        "id": "dVCs8ETENYdc",
        "outputId": "864dd90a-d7e8-4e8b-a5a9-9bd9a024f337"
      },
      "outputs": [
        {
          "output_type": "stream",
          "name": "stdout",
          "text": [
            "Coeficientes:  [-9.47235284  0.03215936 -0.16912874 -0.12137218  3.48850667]\n"
          ]
        }
      ],
      "source": [
        "beta = fit_model(x,y)\n",
        "\n",
        "print(\"Coeficientes: \", beta)\n",
        "\n",
        "y_pred = predict(x, beta)\n",
        "r = y - y_pred"
      ]
    },
    {
      "cell_type": "markdown",
      "metadata": {
        "id": "MBy__XjtSTJN"
      },
      "source": [
        "###Evalúa con validación cruzada de k-pliegues tu modelo, calculando los valores de R2, MSE y MAE."
      ]
    },
    {
      "cell_type": "code",
      "execution_count": null,
      "metadata": {
        "colab": {
          "base_uri": "https://localhost:8080/"
        },
        "id": "D68bHJHxScet",
        "outputId": "a602e45c-1150-440f-e791-6edfe2f4199a"
      },
      "outputs": [
        {
          "output_type": "stream",
          "name": "stdout",
          "text": [
            "MSE: 73.41055004857718  MAE: 4.000566711326771  R^2: -1.8241864005262183\n"
          ]
        }
      ],
      "source": [
        "# Evaluate model with cross validation\n",
        "n_folds = 5\n",
        "kf = KFold(n_splits=n_folds, shuffle = True)\n",
        "mse_cv = []\n",
        "mae_cv = []\n",
        "r2_cv = []\n",
        "for train_index, test_index in kf.split(x):\n",
        "  # Training phase\n",
        "  x_train = x[train_index, :]\n",
        "  y_train = y[train_index]\n",
        "  beta_cv = fit_model(x_train, y_train)\n",
        "\n",
        "  # Test phase\n",
        "  x_test = x[test_index, :]\n",
        "  y_test = y[test_index]\n",
        "  y_pred = predict(x_test, beta_cv)\n",
        "\n",
        "  # Calculate MSE, MAE and R^2\n",
        "  mse_i = mean_squared_error(y_test, y_pred)\n",
        "  mse_cv.append(mse_i)\n",
        "  mae_i = mean_absolute_error(y_test, y_pred)\n",
        "  mae_cv.append(mae_i)\n",
        "  r2_i = r2_score(y_test, y_pred)\n",
        "  r2_cv.append(r2_i)\n",
        "\n",
        "print('MSE:', np.average(mse_cv), ' MAE:', np.average(mae_cv),' R^2:', np.average(r2_cv))"
      ]
    },
    {
      "cell_type": "markdown",
      "metadata": {
        "id": "pbeUjJ2pXzBc"
      },
      "source": [
        "###Utiliza el método de validación cruzada asignado a tu matrícula para mostrar los histogramas de R2 (sólo si es el método de Monte Carlo), MSE y MAE.\n",
        "\n",
        "Metodo LOOCV"
      ]
    },
    {
      "cell_type": "code",
      "execution_count": null,
      "metadata": {
        "colab": {
          "base_uri": "https://localhost:8080/",
          "height": 480
        },
        "id": "PAx7dSxmUY5j",
        "outputId": "d7f0ffd1-9a7e-4d67-a56c-0e4437887c3e"
      },
      "outputs": [
        {
          "output_type": "display_data",
          "data": {
            "text/plain": [
              "<Figure size 640x480 with 2 Axes>"
            ],
            "image/png": "[encoded data removed]"
          },
          "metadata": {}
        }
      ],
      "source": [
        "kf = LeaveOneOut()\n",
        "mse_cv = []\n",
        "mae_cv = []\n",
        "for train_index, test_index in kf.split(x):\n",
        "  # Training phase\n",
        "  x_train = x[train_index, :]\n",
        "  y_train = y[train_index]\n",
        "\n",
        "  regr_cv = linear_model.LinearRegression()\n",
        "  regr_cv.fit(x_train, y_train)\n",
        "\n",
        "  # Test phase\n",
        "  x_test = x[test_index, :]\n",
        "  y_test = y[test_index]\n",
        "\n",
        "  y_pred = regr_cv.predict(x_test)\n",
        "\n",
        "  # Calculate MSE and MAE\n",
        "  mse_i = mean_squared_error(y_test, y_pred)\n",
        "  mse_cv.append(mse_i)\n",
        "\n",
        "  mae_i = mean_absolute_error(y_test, y_pred)\n",
        "  mae_cv.append(mae_i)\n",
        "\n",
        "fig, axs = plt.subplots(1, 2, sharey=True, tight_layout=True)\n",
        "axs[0].hist(mse_cv, bins=20)\n",
        "axs[0].set_xlabel(\"MSE\")\n",
        "\n",
        "axs[1].hist(mae_cv, bins=20)\n",
        "axs[1].set_xlabel(\"MAE\")\n",
        "\n",
        "plt.show()"
      ]
    },
    {
      "cell_type": "markdown",
      "metadata": {
        "id": "IQvTsBVibE8P"
      },
      "source": [
        "###Agrega al conjunto de datos columnas que representen los cuadrados de las variables predictoras (por ejemplo, M2, W2), así como los productos entre pares de variables (por ejemplo, PxS, MxW). Repita los pasos 1, 2 y 3 pero con este nuevo conjunto de datos."
      ]
    },
    {
      "cell_type": "code",
      "execution_count": null,
      "metadata": {
        "colab": {
          "base_uri": "https://localhost:8080/",
          "height": 206
        },
        "id": "qJCTR45EbFi3",
        "outputId": "92fe16af-706c-4aaf-b768-55d328e9bbe1"
      },
      "outputs": [
        {
          "output_type": "execute_result",
          "data": {
            "text/plain": [
              "     MR       M2       W2       H2      S2       MW       MH       MS  \\\n",
              "0   9.0  1747.24  5655.04  7499.56  204.49  3143.36  3619.88   597.74   \n",
              "1  11.6  4542.76  5402.25  4475.61  132.25  4953.90  4509.06   775.10   \n",
              "2  10.2  1998.09  6872.41  4395.69  114.49  3705.63  2963.61   478.29   \n",
              "3   8.6  7174.09  7849.96  6193.69  146.41  7504.42  6665.89  1024.87   \n",
              "4  13.1  9350.89  6288.49  5806.44  156.25  7668.31  7368.54  1208.75   \n",
              "\n",
              "        WH       WS       HS  \n",
              "0  6512.32  1075.36  1238.38  \n",
              "1  4917.15   845.25   769.35  \n",
              "2  5496.27   887.03   709.41  \n",
              "3  6972.82  1072.06   952.27  \n",
              "4  6042.66   991.25   952.50  "
            ],
            "text/html": [
              "\n",
              "  <div id=\"df-700d7532-0050-4266-99e6-31e111cba716\" class=\"colab-df-container\">\n",
              "    <div>\n",
              "<style scoped>\n",
              "    .dataframe tbody tr th:only-of-type {\n",
              "        vertical-align: middle;\n",
              "    }\n",
              "\n",
              "    .dataframe tbody tr th {\n",
              "        vertical-align: top;\n",
              "    }\n",
              "\n",
              "    .dataframe thead th {\n",
              "        text-align: right;\n",
              "    }\n",
              "</style>\n",
              "<table border=\"1\" class=\"dataframe\">\n",
              "  <thead>\n",
              "    <tr style=\"text-align: right;\">\n",
              "      <th></th>\n",
              "      <th>MR</th>\n",
              "      <th>M2</th>\n",
              "      <th>W2</th>\n",
              "      <th>H2</th>\n",
              "      <th>S2</th>\n",
              "      <th>MW</th>\n",
              "      <th>MH</th>\n",
              "      <th>MS</th>\n",
              "      <th>WH</th>\n",
              "      <th>WS</th>\n",
              "      <th>HS</th>\n",
              "    </tr>\n",
              "  </thead>\n",
              "  <tbody>\n",
              "    <tr>\n",
              "      <th>0</th>\n",
              "      <td>9.0</td>\n",
              "      <td>1747.24</td>\n",
              "      <td>5655.04</td>\n",
              "      <td>7499.56</td>\n",
              "      <td>204.49</td>\n",
              "      <td>3143.36</td>\n",
              "      <td>3619.88</td>\n",
              "      <td>597.74</td>\n",
              "      <td>6512.32</td>\n",
              "      <td>1075.36</td>\n",
              "      <td>1238.38</td>\n",
              "    </tr>\n",
              "    <tr>\n",
              "      <th>1</th>\n",
              "      <td>11.6</td>\n",
              "      <td>4542.76</td>\n",
              "      <td>5402.25</td>\n",
              "      <td>4475.61</td>\n",
              "      <td>132.25</td>\n",
              "      <td>4953.90</td>\n",
              "      <td>4509.06</td>\n",
              "      <td>775.10</td>\n",
              "      <td>4917.15</td>\n",
              "      <td>845.25</td>\n",
              "      <td>769.35</td>\n",
              "    </tr>\n",
              "    <tr>\n",
              "      <th>2</th>\n",
              "      <td>10.2</td>\n",
              "      <td>1998.09</td>\n",
              "      <td>6872.41</td>\n",
              "      <td>4395.69</td>\n",
              "      <td>114.49</td>\n",
              "      <td>3705.63</td>\n",
              "      <td>2963.61</td>\n",
              "      <td>478.29</td>\n",
              "      <td>5496.27</td>\n",
              "      <td>887.03</td>\n",
              "      <td>709.41</td>\n",
              "    </tr>\n",
              "    <tr>\n",
              "      <th>3</th>\n",
              "      <td>8.6</td>\n",
              "      <td>7174.09</td>\n",
              "      <td>7849.96</td>\n",
              "      <td>6193.69</td>\n",
              "      <td>146.41</td>\n",
              "      <td>7504.42</td>\n",
              "      <td>6665.89</td>\n",
              "      <td>1024.87</td>\n",
              "      <td>6972.82</td>\n",
              "      <td>1072.06</td>\n",
              "      <td>952.27</td>\n",
              "    </tr>\n",
              "    <tr>\n",
              "      <th>4</th>\n",
              "      <td>13.1</td>\n",
              "      <td>9350.89</td>\n",
              "      <td>6288.49</td>\n",
              "      <td>5806.44</td>\n",
              "      <td>156.25</td>\n",
              "      <td>7668.31</td>\n",
              "      <td>7368.54</td>\n",
              "      <td>1208.75</td>\n",
              "      <td>6042.66</td>\n",
              "      <td>991.25</td>\n",
              "      <td>952.50</td>\n",
              "    </tr>\n",
              "  </tbody>\n",
              "</table>\n",
              "</div>\n",
              "    <div class=\"colab-df-buttons\">\n",
              "\n",
              "  <div class=\"colab-df-container\">\n",
              "    <button class=\"colab-df-convert\" onclick=\"convertToInteractive('df-700d7532-0050-4266-99e6-31e111cba716')\"\n",
              "            title=\"Convert this dataframe to an interactive table.\"\n",
              "            style=\"display:none;\">\n",
              "\n",
              "  <svg xmlns=\"http://www.w3.org/2000/svg\" height=\"24px\" viewBox=\"0 -960 960 960\">\n",
              "    <path d=\"M120-120v-720h720v720H120Zm60-500h600v-160H180v160Zm220 220h160v-160H400v160Zm0 220h160v-160H400v160ZM180-400h160v-160H180v160Zm440 0h160v-160H620v160ZM180-180h160v-160H180v160Zm440 0h160v-160H620v160Z\"/>\n",
              "  </svg>\n",
              "    </button>\n",
              "\n",
              "  <style>\n",
              "    .colab-df-container {\n",
              "      display:flex;\n",
              "      gap: 12px;\n",
              "    }\n",
              "\n",
              "    .colab-df-convert {\n",
              "      background-color: #E8F0FE;\n",
              "      border: none;\n",
              "      border-radius: 50%;\n",
              "      cursor: pointer;\n",
              "      display: none;\n",
              "      fill: #1967D2;\n",
              "      height: 32px;\n",
              "      padding: 0 0 0 0;\n",
              "      width: 32px;\n",
              "    }\n",
              "\n",
              "    .colab-df-convert:hover {\n",
              "      background-color: #E2EBFA;\n",
              "      box-shadow: 0px 1px 2px rgba(60, 64, 67, 0.3), 0px 1px 3px 1px rgba(60, 64, 67, 0.15);\n",
              "      fill: #174EA6;\n",
              "    }\n",
              "\n",
              "    .colab-df-buttons div {\n",
              "      margin-bottom: 4px;\n",
              "    }\n",
              "\n",
              "    [theme=dark] .colab-df-convert {\n",
              "      background-color: #3B4455;\n",
              "      fill: #D2E3FC;\n",
              "    }\n",
              "\n",
              "    [theme=dark] .colab-df-convert:hover {\n",
              "      background-color: #434B5C;\n",
              "      box-shadow: 0px 1px 3px 1px rgba(0, 0, 0, 0.15);\n",
              "      filter: drop-shadow(0px 1px 2px rgba(0, 0, 0, 0.3));\n",
              "      fill: #FFFFFF;\n",
              "    }\n",
              "  </style>\n",
              "\n",
              "    <script>\n",
              "      const buttonEl =\n",
              "        document.querySelector('#df-700d7532-0050-4266-99e6-31e111cba716 button.colab-df-convert');\n",
              "      buttonEl.style.display =\n",
              "        google.colab.kernel.accessAllowed ? 'block' : 'none';\n",
              "\n",
              "      async function convertToInteractive(key) {\n",
              "        const element = document.querySelector('#df-700d7532-0050-4266-99e6-31e111cba716');\n",
              "        const dataTable =\n",
              "          await google.colab.kernel.invokeFunction('convertToInteractive',\n",
              "                                                    [key], {});\n",
              "        if (!dataTable) return;\n",
              "\n",
              "        const docLinkHtml = 'Like what you see? Visit the ' +\n",
              "          '<a target=\"_blank\" href=https://colab.research.google.com/notebooks/data_table.ipynb>data table notebook</a>'\n",
              "          + ' to learn more about interactive tables.';\n",
              "        element.innerHTML = '';\n",
              "        dataTable['output_type'] = 'display_data';\n",
              "        await google.colab.output.renderOutput(dataTable, element);\n",
              "        const docLink = document.createElement('div');\n",
              "        docLink.innerHTML = docLinkHtml;\n",
              "        element.appendChild(docLink);\n",
              "      }\n",
              "    </script>\n",
              "  </div>\n",
              "\n",
              "\n",
              "<div id=\"df-1d369f79-da46-475d-9ed4-67bbb70a8719\">\n",
              "  <button class=\"colab-df-quickchart\" onclick=\"quickchart('df-1d369f79-da46-475d-9ed4-67bbb70a8719')\"\n",
              "            title=\"Suggest charts.\"\n",
              "            style=\"display:none;\">\n",
              "\n",
              "<svg xmlns=\"http://www.w3.org/2000/svg\" height=\"24px\"viewBox=\"0 0 24 24\"\n",
              "     width=\"24px\">\n",
              "    <g>\n",
              "        <path d=\"M19 3H5c-1.1 0-2 .9-2 2v14c0 1.1.9 2 2 2h14c1.1 0 2-.9 2-2V5c0-1.1-.9-2-2-2zM9 17H7v-7h2v7zm4 0h-2V7h2v10zm4 0h-2v-4h2v4z\"/>\n",
              "    </g>\n",
              "</svg>\n",
              "  </button>\n",
              "\n",
              "<style>\n",
              "  .colab-df-quickchart {\n",
              "    background-color: #E8F0FE;\n",
              "    border: none;\n",
              "    border-radius: 50%;\n",
              "    cursor: pointer;\n",
              "    display: none;\n",
              "    fill: #1967D2;\n",
              "    height: 32px;\n",
              "    padding: 0 0 0 0;\n",
              "    width: 32px;\n",
              "  }\n",
              "\n",
              "  .colab-df-quickchart:hover {\n",
              "    background-color: #E2EBFA;\n",
              "    box-shadow: 0px 1px 2px rgba(60, 64, 67, 0.3), 0px 1px 3px 1px rgba(60, 64, 67, 0.15);\n",
              "    fill: #174EA6;\n",
              "  }\n",
              "\n",
              "  [theme=dark] .colab-df-quickchart {\n",
              "    background-color: #3B4455;\n",
              "    fill: #D2E3FC;\n",
              "  }\n",
              "\n",
              "  [theme=dark] .colab-df-quickchart:hover {\n",
              "    background-color: #434B5C;\n",
              "    box-shadow: 0px 1px 3px 1px rgba(0, 0, 0, 0.15);\n",
              "    filter: drop-shadow(0px 1px 2px rgba(0, 0, 0, 0.3));\n",
              "    fill: #FFFFFF;\n",
              "  }\n",
              "</style>\n",
              "\n",
              "  <script>\n",
              "    async function quickchart(key) {\n",
              "      const charts = await google.colab.kernel.invokeFunction(\n",
              "          'suggestCharts', [key], {});\n",
              "    }\n",
              "    (() => {\n",
              "      let quickchartButtonEl =\n",
              "        document.querySelector('#df-1d369f79-da46-475d-9ed4-67bbb70a8719 button');\n",
              "      quickchartButtonEl.style.display =\n",
              "        google.colab.kernel.accessAllowed ? 'block' : 'none';\n",
              "    })();\n",
              "  </script>\n",
              "</div>\n",
              "    </div>\n",
              "  </div>\n"
            ]
          },
          "metadata": {},
          "execution_count": 12
        }
      ],
      "source": [
        "df2 = pd.DataFrame()\n",
        "df2['MR'] = df['MR']\n",
        "df2['M2'] = df['M']**2\n",
        "df2['W2'] = df['W']**2\n",
        "df2['H2'] = df['H']**2\n",
        "df2['S2'] = df['S']**2\n",
        "\n",
        "df2['MW'] = df['M'] * df['W']\n",
        "df2['MH'] = df['M'] * df['H']\n",
        "df2['MS'] = df['M'] * df['S']\n",
        "df2['WH'] = df['W'] * df['H']\n",
        "df2['WS'] = df['W'] * df['S']\n",
        "df2['HS'] = df['H'] * df['S']\n",
        "df2.head()"
      ]
    },
    {
      "cell_type": "code",
      "execution_count": null,
      "metadata": {
        "colab": {
          "base_uri": "https://localhost:8080/",
          "height": 758
        },
        "id": "VXO96Wfcd1DH",
        "outputId": "3abf7891-c8b1-4a2b-c1a0-719b546d5b54"
      },
      "outputs": [
        {
          "output_type": "display_data",
          "data": {
            "text/plain": [
              "<Figure size 2400x1600 with 10 Axes>"
            ],
            "image/png": "[encoded data removed]"
          },
          "metadata": {}
        }
      ],
      "source": [
        "sns.set(style=\"whitegrid\")\n",
        "\n",
        "fig, axes = plt.subplots(nrows=5, ncols=2, figsize=(24, 16))\n",
        "plt.subplots_adjust(hspace=0.5)\n",
        "\n",
        "sns.scatterplot(data=df2, x='M2', y='MR', ax=axes[0, 0])\n",
        "axes[0, 0].set_title('M2 vs MR')\n",
        "\n",
        "sns.scatterplot(data=df2, x='W2', y='MR', ax=axes[0, 1])\n",
        "axes[0, 1].set_title('W2 vs MR')\n",
        "\n",
        "sns.scatterplot(data=df2, x='H2', y='MR', ax=axes[1, 0])\n",
        "axes[1, 0].set_title('H2 vs MR')\n",
        "\n",
        "sns.scatterplot(data=df2, x='S2', y='MR', ax=axes[1, 1])\n",
        "axes[1, 1].set_title('S2 vs MR')\n",
        "\n",
        "sns.scatterplot(data=df2, x='MW', y='MR', ax=axes[2, 0])\n",
        "axes[2, 0].set_title('MW vs MR')\n",
        "\n",
        "sns.scatterplot(data=df2, x='MH', y='MR', ax=axes[2, 1])\n",
        "axes[2, 1].set_title('MH vs MR')\n",
        "\n",
        "sns.scatterplot(data=df2, x='MS', y='MR', ax=axes[3, 0])\n",
        "axes[3, 0].set_title('MS vs MR')\n",
        "\n",
        "sns.scatterplot(data=df2, x='WH', y='MR', ax=axes[3, 1])\n",
        "axes[3, 1].set_title('WH vs MR')\n",
        "\n",
        "sns.scatterplot(data=df2, x='WS', y='MR', ax=axes[4, 0])\n",
        "axes[4, 0].set_title('WS vs MR')\n",
        "\n",
        "sns.scatterplot(data=df2, x='HS', y='MR', ax=axes[4, 1])\n",
        "axes[4, 1].set_title('HS vs MR')\n",
        "\n",
        "plt.tight_layout()\n",
        "plt.show()"
      ]
    },
    {
      "cell_type": "code",
      "execution_count": null,
      "metadata": {
        "id": "ESR1tsKHg97r"
      },
      "outputs": [],
      "source": [
        "#Variables regresoras\n",
        "x_2 = np.array(df2[['M2','W2','H2','S2','MW','MH','MS','WH','WS','HS']])\n",
        "y_2 = np.array(df2['MR'])\n",
        "\n",
        "#Promedio de las variables\n",
        "x2_mean = x_2.mean()\n",
        "y2_mean = y_2.mean()"
      ]
    },
    {
      "cell_type": "code",
      "execution_count": null,
      "metadata": {
        "id": "P0TcGBb_hVlD"
      },
      "outputs": [],
      "source": [
        "x_2 = np.column_stack((np.ones(x_2.shape[0]), x_2))"
      ]
    },
    {
      "cell_type": "code",
      "execution_count": null,
      "metadata": {
        "colab": {
          "base_uri": "https://localhost:8080/"
        },
        "id": "2a63cAqdiH0Z",
        "outputId": "4b03711e-d95e-4b19-81af-cbb474c91e28"
      },
      "outputs": [
        {
          "output_type": "stream",
          "name": "stdout",
          "text": [
            "Coeficientes:  [ 1.40020170e+01 -6.28475658e-04  9.06954553e-04 -1.17934518e-02\n",
            " -8.45746762e-03 -1.62502141e-03  7.61135116e-04  1.88054219e-02\n",
            "  7.58645554e-03 -6.77623947e-02  7.71171363e-02]\n"
          ]
        }
      ],
      "source": [
        "beta_2 = fit_model(x_2,y_2)\n",
        "\n",
        "print(\"Coeficientes: \", beta_2)\n",
        "\n",
        "y_pred2 = predict(x_2, beta_2)\n",
        "r_2 = y_2 - y_pred2"
      ]
    },
    {
      "cell_type": "code",
      "execution_count": null,
      "metadata": {
        "colab": {
          "base_uri": "https://localhost:8080/"
        },
        "id": "3uWlKIQ1iXBD",
        "outputId": "aff38591-9807-4c44-8d5f-ed1033037f77"
      },
      "outputs": [
        {
          "output_type": "stream",
          "name": "stdout",
          "text": [
            "MSE: 97.59216950120113  MAE: 3.2454837791932034  R^2: 0.4835958639001797\n"
          ]
        }
      ],
      "source": [
        "# Evaluate linear regression model using k-fold cross-validation\n",
        "kf_2 = KFold(n_splits=n_folds, shuffle = True)\n",
        "mse_cv2 = []\n",
        "mae_cv2 = []\n",
        "r2_cv2 = []\n",
        "for train_index, test_index in kf_2.split(x_2):\n",
        "  # Training phase\n",
        "  x_train = x_2[train_index, :]\n",
        "  y_train = y_2[train_index]\n",
        "  regr_cv = linear_model.LinearRegression()\n",
        "  regr_cv.fit(x_train, y_train)\n",
        "  # Test phase\n",
        "  x_test = x_2[test_index, :]\n",
        "  y_test = y_2[test_index]\n",
        "  y_pred = regr_cv.predict(x_test)\n",
        "  # MSE, MAE y R^2\n",
        "  mse_i = mean_squared_error(y_test, y_pred)\n",
        "  mse_cv2.append(mse_i)\n",
        "  mae_i = mean_absolute_error(y_test, y_pred)\n",
        "  mae_cv2.append(mae_i)\n",
        "  r2_i = r2_score(y_test, y_pred)\n",
        "  r2_cv2.append(r2_i)\n",
        "print('MSE:', np.average(mse_cv2), ' MAE:', np.average(mae_cv2),' R^2:', np.average(r2_cv2))"
      ]
    },
    {
      "cell_type": "markdown",
      "metadata": {
        "id": "QRhULX-SjJvS"
      },
      "source": [
        "###Implementa regresión Ridge con descenso de gradiente, y genera el gráfico de Ridge para el conjunto de datos original (sin las variables elevadas al cuadrado)."
      ]
    },
    {
      "cell_type": "code",
      "execution_count": null,
      "metadata": {
        "id": "ULnmcMx7jDdW"
      },
      "outputs": [],
      "source": [
        "# Error function (it evaluates the mean squared error function for the specified model and data set).\n",
        "def mse(X, y, beta):\n",
        "  y_pred = X @ beta\n",
        "  return (y - y_pred).sum()\n",
        "# Gradient of error function (it evaluates the gradient of the mean squared error function for the specified model and data set).\n",
        "def grad(X, y, beta, lambd):\n",
        "  n = len(y)\n",
        "  y_pred = X @ beta\n",
        "  res = y - y_pred\n",
        "  tmp = res*X.transpose()\n",
        "  return -(2/n)*tmp.sum(axis = 1) + 2*lambd*beta\n",
        "\n",
        "def fit_modelRidge(x,y,lambd = 0.1, alpha = 0.0005, maxit = 100000):\n",
        "  npredictors = x.shape[1]\n",
        "\n",
        "  beta = 2 * np.random.rand(npredictors)-1.0\n",
        "\n",
        "  it = 0\n",
        "  while (np.linalg.norm(grad(x,y,beta,lambd)) > 1e-4) and (it < maxit):\n",
        "    beta = beta - alpha*grad(x,y,beta,lambd)\n",
        "    it = it + 1\n",
        "  return beta"
      ]
    },
    {
      "cell_type": "code",
      "execution_count": null,
      "metadata": {
        "id": "s-DEc54YXgsW"
      },
      "outputs": [],
      "source": [
        "lambdas = np.logspace(-2,3,50)\n",
        "coefs=[]\n",
        "\n",
        "scaler = StandardScaler()\n",
        "x_normalized = scaler.fit_transform(x)\n",
        "for l in lambdas:\n",
        "  betaR = fit_modelRidge(x_normalized,y,l)\n",
        "  coefs.append(betaR)"
      ]
    },
    {
      "cell_type": "code",
      "execution_count": null,
      "metadata": {
        "colab": {
          "base_uri": "https://localhost:8080/",
          "height": 484
        },
        "id": "XLzu98b-bX4E",
        "outputId": "161e10c4-465d-4358-f5be-38908fd15f58"
      },
      "outputs": [
        {
          "output_type": "display_data",
          "data": {
            "text/plain": [
              "<Figure size 640x480 with 1 Axes>"
            ],
            "image/png": "[encoded data removed]"
          },
          "metadata": {}
        }
      ],
      "source": [
        "axis = plt.gca()\n",
        "lineObjects = axis.plot(lambdas, coefs)\n",
        "axis.set_xscale('log')\n",
        "axis.set_xlim(axis.get_xlim()[::-1])\n",
        "plt.xlabel('lambda')\n",
        "plt.ylabel('weights')\n",
        "plt.title('Ridge coefficients as a function of the regularization')\n",
        "plt.axis('tight')\n",
        "\n",
        "features = ['beta' + str(feat) for feat in range(coefs[0].shape[0])]\n",
        "axis.legend(iter(lineObjects), features)\n",
        "\n",
        "plt.show()"
      ]
    },
    {
      "cell_type": "markdown",
      "metadata": {
        "id": "jmn3mjPsIqz0"
      },
      "source": [
        "###Utiliza una librería para generar el gráfico de Lasso para el conjunto de datos original (sin las variables elevadas al cuadrado). ¿Qué variables son más relevantes para el modelo?"
      ]
    },
    {
      "cell_type": "code",
      "execution_count": null,
      "metadata": {
        "colab": {
          "base_uri": "https://localhost:8080/",
          "height": 484
        },
        "id": "UcL6Jf3WMVlc",
        "outputId": "1667501f-7b2a-4579-cfc4-44852f23fd1b"
      },
      "outputs": [
        {
          "output_type": "display_data",
          "data": {
            "text/plain": [
              "<Figure size 640x480 with 1 Axes>"
            ],
            "image/png": "[encoded data removed]"
          },
          "metadata": {}
        }
      ],
      "source": [
        "X_train,x_test,y_train,y_test=train_test_split(x_normalized,y,test_size=0.8,random_state=42)\n",
        "\n",
        "alphas = np.logspace(-2, 3, 50)\n",
        "lasso = Lasso(max_iter=10000)\n",
        "coefs = []\n",
        "\n",
        "for a in alphas:\n",
        "  lasso.set_params(alpha=a)\n",
        "  lasso.fit(X_train, y_train)\n",
        "  coefs.append(lasso.coef_)\n",
        "\n",
        "ax = plt.gca()\n",
        "\n",
        "lineObjects = ax.plot(alphas,coefs)\n",
        "ax.set_xscale('log')\n",
        "axis.set_xlim(axis.get_xlim()[::-1])\n",
        "plt.axis('tight')\n",
        "plt.xlabel('alpha')\n",
        "plt.ylabel('Standarized coefs')\n",
        "plt.title('Lasso coefs')\n",
        "features = ['x' + str(feat) for feat in range(coefs[0].shape[0])]\n",
        "ax.legend(iter(lineObjects), features)\n",
        "plt.show()"
      ]
    },
    {
      "cell_type": "markdown",
      "metadata": {
        "id": "qdISEKn6tlTu"
      },
      "source": [
        "Viendo la grafica podemos determinar que $x_4$ ('S') es la variable mas relevante"
      ]
    },
    {
      "cell_type": "markdown",
      "source": [
        "###Viendo los resultados de regresión, desarrolla una conclusión sobre los siguientes puntos:"
      ],
      "metadata": {
        "id": "IaGexRxhQUKh"
      }
    },
    {
      "cell_type": "markdown",
      "source": [
        "**¿Consideras que el modelo de regresión lineal es efectivo para modelar los datos del problema? ¿Por qué?**\n",
        "\n",
        "Considero que la regresion lineal debido a que la MAE no es muy grande.\n",
        "\n",
        "**¿Observas una variabilidad importante en los valores de R2, MSE y MAE cuando aplicas validación cruzada? Detalla tu respuesta.**\n",
        "\n",
        "Al aplicar validación cruzada se puede observar que la medida MSE varia bastante con respecto a MAE, esto se puede deber a que en el modelo se predicen algunos datos que se alejan bastante de los datos reales, pero la mayoria de las predicciones puede no haber una gran diferencia, lo que ocasiona que en MAE el error no sea elevado como en MSE.\n",
        "\n",
        "**¿Qué modelo es mejor para los datos de criminalidad, el lineal o el cuadrático? ¿Por qué?**\n",
        "\n",
        "El modelo cuadratico debido a que las medidas de error (MSE y MAE) se vieron reducidas.\n",
        "\n",
        "**¿Qué variables son más relevantes para el modelo según Ride y Lasso?**\n",
        "\n",
        "La variable mas relevante para el modelo es x4, que en este caso es la variable 'S'\n",
        "\n",
        "**¿Encuentras alguna relación interesante entre la variable de respuesta y los predictores?**\n",
        "\n",
        "La relación que me resulto mas interesante entre las variables es que una de las variables tiene mucha mas peso para predecir el modelo ('S')\n"
      ],
      "metadata": {
        "id": "U_9LJgrUQ4Am"
      }
    },
    {
      "cell_type": "markdown",
      "metadata": {
        "id": "ZwWia_8S0pNr"
      },
      "source": [
        "##Problema 2"
      ]
    },
    {
      "cell_type": "code",
      "execution_count": null,
      "metadata": {
        "colab": {
          "base_uri": "https://localhost:8080/",
          "height": 307
        },
        "id": "FWP9WvZK0sKh",
        "outputId": "3645683d-b753-4876-9bb9-b5cdd0aea5c4"
      },
      "outputs": [
        {
          "output_type": "execute_result",
          "data": {
            "text/plain": [
              "       Country  Year      Status  Life expectancy   Adult Mortality  \\\n",
              "0  Afghanistan  2015  Developing              65.0            263.0   \n",
              "1  Afghanistan  2014  Developing              59.9            271.0   \n",
              "2  Afghanistan  2013  Developing              59.9            268.0   \n",
              "3  Afghanistan  2012  Developing              59.5            272.0   \n",
              "4  Afghanistan  2011  Developing              59.2            275.0   \n",
              "\n",
              "   infant deaths  Alcohol  percentage expenditure  Hepatitis B  Measles   ...  \\\n",
              "0             62     0.01               71.279624         65.0      1154  ...   \n",
              "1             64     0.01               73.523582         62.0       492  ...   \n",
              "2             66     0.01               73.219243         64.0       430  ...   \n",
              "3             69     0.01               78.184215         67.0      2787  ...   \n",
              "4             71     0.01                7.097109         68.0      3013  ...   \n",
              "\n",
              "   Polio  Total expenditure  Diphtheria    HIV/AIDS         GDP  Population  \\\n",
              "0    6.0               8.16         65.0        0.1  584.259210  33736494.0   \n",
              "1   58.0               8.18         62.0        0.1  612.696514    327582.0   \n",
              "2   62.0               8.13         64.0        0.1  631.744976  31731688.0   \n",
              "3   67.0               8.52         67.0        0.1  669.959000   3696958.0   \n",
              "4   68.0               7.87         68.0        0.1   63.537231   2978599.0   \n",
              "\n",
              "    thinness  1-19 years   thinness 5-9 years  \\\n",
              "0                   17.2                 17.3   \n",
              "1                   17.5                 17.5   \n",
              "2                   17.7                 17.7   \n",
              "3                   17.9                 18.0   \n",
              "4                   18.2                 18.2   \n",
              "\n",
              "   Income composition of resources  Schooling  \n",
              "0                            0.479       10.1  \n",
              "1                            0.476       10.0  \n",
              "2                            0.470        9.9  \n",
              "3                            0.463        9.8  \n",
              "4                            0.454        9.5  \n",
              "\n",
              "[5 rows x 22 columns]"
            ],
            "text/html": [
              "\n",
              "  <div id=\"df-a750f952-8736-4f3c-ba07-8355a32e6f4e\" class=\"colab-df-container\">\n",
              "    <div>\n",
              "<style scoped>\n",
              "    .dataframe tbody tr th:only-of-type {\n",
              "        vertical-align: middle;\n",
              "    }\n",
              "\n",
              "    .dataframe tbody tr th {\n",
              "        vertical-align: top;\n",
              "    }\n",
              "\n",
              "    .dataframe thead th {\n",
              "        text-align: right;\n",
              "    }\n",
              "</style>\n",
              "<table border=\"1\" class=\"dataframe\">\n",
              "  <thead>\n",
              "    <tr style=\"text-align: right;\">\n",
              "      <th></th>\n",
              "      <th>Country</th>\n",
              "      <th>Year</th>\n",
              "      <th>Status</th>\n",
              "      <th>Life expectancy</th>\n",
              "      <th>Adult Mortality</th>\n",
              "      <th>infant deaths</th>\n",
              "      <th>Alcohol</th>\n",
              "      <th>percentage expenditure</th>\n",
              "      <th>Hepatitis B</th>\n",
              "      <th>Measles</th>\n",
              "      <th>...</th>\n",
              "      <th>Polio</th>\n",
              "      <th>Total expenditure</th>\n",
              "      <th>Diphtheria</th>\n",
              "      <th>HIV/AIDS</th>\n",
              "      <th>GDP</th>\n",
              "      <th>Population</th>\n",
              "      <th>thinness  1-19 years</th>\n",
              "      <th>thinness 5-9 years</th>\n",
              "      <th>Income composition of resources</th>\n",
              "      <th>Schooling</th>\n",
              "    </tr>\n",
              "  </thead>\n",
              "  <tbody>\n",
              "    <tr>\n",
              "      <th>0</th>\n",
              "      <td>Afghanistan</td>\n",
              "      <td>2015</td>\n",
              "      <td>Developing</td>\n",
              "      <td>65.0</td>\n",
              "      <td>263.0</td>\n",
              "      <td>62</td>\n",
              "      <td>0.01</td>\n",
              "      <td>71.279624</td>\n",
              "      <td>65.0</td>\n",
              "      <td>1154</td>\n",
              "      <td>...</td>\n",
              "      <td>6.0</td>\n",
              "      <td>8.16</td>\n",
              "      <td>65.0</td>\n",
              "      <td>0.1</td>\n",
              "      <td>584.259210</td>\n",
              "      <td>33736494.0</td>\n",
              "      <td>17.2</td>\n",
              "      <td>17.3</td>\n",
              "      <td>0.479</td>\n",
              "      <td>10.1</td>\n",
              "    </tr>\n",
              "    <tr>\n",
              "      <th>1</th>\n",
              "      <td>Afghanistan</td>\n",
              "      <td>2014</td>\n",
              "      <td>Developing</td>\n",
              "      <td>59.9</td>\n",
              "      <td>271.0</td>\n",
              "      <td>64</td>\n",
              "      <td>0.01</td>\n",
              "      <td>73.523582</td>\n",
              "      <td>62.0</td>\n",
              "      <td>492</td>\n",
              "      <td>...</td>\n",
              "      <td>58.0</td>\n",
              "      <td>8.18</td>\n",
              "      <td>62.0</td>\n",
              "      <td>0.1</td>\n",
              "      <td>612.696514</td>\n",
              "      <td>327582.0</td>\n",
              "      <td>17.5</td>\n",
              "      <td>17.5</td>\n",
              "      <td>0.476</td>\n",
              "      <td>10.0</td>\n",
              "    </tr>\n",
              "    <tr>\n",
              "      <th>2</th>\n",
              "      <td>Afghanistan</td>\n",
              "      <td>2013</td>\n",
              "      <td>Developing</td>\n",
              "      <td>59.9</td>\n",
              "      <td>268.0</td>\n",
              "      <td>66</td>\n",
              "      <td>0.01</td>\n",
              "      <td>73.219243</td>\n",
              "      <td>64.0</td>\n",
              "      <td>430</td>\n",
              "      <td>...</td>\n",
              "      <td>62.0</td>\n",
              "      <td>8.13</td>\n",
              "      <td>64.0</td>\n",
              "      <td>0.1</td>\n",
              "      <td>631.744976</td>\n",
              "      <td>31731688.0</td>\n",
              "      <td>17.7</td>\n",
              "      <td>17.7</td>\n",
              "      <td>0.470</td>\n",
              "      <td>9.9</td>\n",
              "    </tr>\n",
              "    <tr>\n",
              "      <th>3</th>\n",
              "      <td>Afghanistan</td>\n",
              "      <td>2012</td>\n",
              "      <td>Developing</td>\n",
              "      <td>59.5</td>\n",
              "      <td>272.0</td>\n",
              "      <td>69</td>\n",
              "      <td>0.01</td>\n",
              "      <td>78.184215</td>\n",
              "      <td>67.0</td>\n",
              "      <td>2787</td>\n",
              "      <td>...</td>\n",
              "      <td>67.0</td>\n",
              "      <td>8.52</td>\n",
              "      <td>67.0</td>\n",
              "      <td>0.1</td>\n",
              "      <td>669.959000</td>\n",
              "      <td>3696958.0</td>\n",
              "      <td>17.9</td>\n",
              "      <td>18.0</td>\n",
              "      <td>0.463</td>\n",
              "      <td>9.8</td>\n",
              "    </tr>\n",
              "    <tr>\n",
              "      <th>4</th>\n",
              "      <td>Afghanistan</td>\n",
              "      <td>2011</td>\n",
              "      <td>Developing</td>\n",
              "      <td>59.2</td>\n",
              "      <td>275.0</td>\n",
              "      <td>71</td>\n",
              "      <td>0.01</td>\n",
              "      <td>7.097109</td>\n",
              "      <td>68.0</td>\n",
              "      <td>3013</td>\n",
              "      <td>...</td>\n",
              "      <td>68.0</td>\n",
              "      <td>7.87</td>\n",
              "      <td>68.0</td>\n",
              "      <td>0.1</td>\n",
              "      <td>63.537231</td>\n",
              "      <td>2978599.0</td>\n",
              "      <td>18.2</td>\n",
              "      <td>18.2</td>\n",
              "      <td>0.454</td>\n",
              "      <td>9.5</td>\n",
              "    </tr>\n",
              "  </tbody>\n",
              "</table>\n",
              "<p>5 rows × 22 columns</p>\n",
              "</div>\n",
              "    <div class=\"colab-df-buttons\">\n",
              "\n",
              "  <div class=\"colab-df-container\">\n",
              "    <button class=\"colab-df-convert\" onclick=\"convertToInteractive('df-a750f952-8736-4f3c-ba07-8355a32e6f4e')\"\n",
              "            title=\"Convert this dataframe to an interactive table.\"\n",
              "            style=\"display:none;\">\n",
              "\n",
              "  <svg xmlns=\"http://www.w3.org/2000/svg\" height=\"24px\" viewBox=\"0 -960 960 960\">\n",
              "    <path d=\"M120-120v-720h720v720H120Zm60-500h600v-160H180v160Zm220 220h160v-160H400v160Zm0 220h160v-160H400v160ZM180-400h160v-160H180v160Zm440 0h160v-160H620v160ZM180-180h160v-160H180v160Zm440 0h160v-160H620v160Z\"/>\n",
              "  </svg>\n",
              "    </button>\n",
              "\n",
              "  <style>\n",
              "    .colab-df-container {\n",
              "      display:flex;\n",
              "      gap: 12px;\n",
              "    }\n",
              "\n",
              "    .colab-df-convert {\n",
              "      background-color: #E8F0FE;\n",
              "      border: none;\n",
              "      border-radius: 50%;\n",
              "      cursor: pointer;\n",
              "      display: none;\n",
              "      fill: #1967D2;\n",
              "      height: 32px;\n",
              "      padding: 0 0 0 0;\n",
              "      width: 32px;\n",
              "    }\n",
              "\n",
              "    .colab-df-convert:hover {\n",
              "      background-color: #E2EBFA;\n",
              "      box-shadow: 0px 1px 2px rgba(60, 64, 67, 0.3), 0px 1px 3px 1px rgba(60, 64, 67, 0.15);\n",
              "      fill: #174EA6;\n",
              "    }\n",
              "\n",
              "    .colab-df-buttons div {\n",
              "      margin-bottom: 4px;\n",
              "    }\n",
              "\n",
              "    [theme=dark] .colab-df-convert {\n",
              "      background-color: #3B4455;\n",
              "      fill: #D2E3FC;\n",
              "    }\n",
              "\n",
              "    [theme=dark] .colab-df-convert:hover {\n",
              "      background-color: #434B5C;\n",
              "      box-shadow: 0px 1px 3px 1px rgba(0, 0, 0, 0.15);\n",
              "      filter: drop-shadow(0px 1px 2px rgba(0, 0, 0, 0.3));\n",
              "      fill: #FFFFFF;\n",
              "    }\n",
              "  </style>\n",
              "\n",
              "    <script>\n",
              "      const buttonEl =\n",
              "        document.querySelector('#df-a750f952-8736-4f3c-ba07-8355a32e6f4e button.colab-df-convert');\n",
              "      buttonEl.style.display =\n",
              "        google.colab.kernel.accessAllowed ? 'block' : 'none';\n",
              "\n",
              "      async function convertToInteractive(key) {\n",
              "        const element = document.querySelector('#df-a750f952-8736-4f3c-ba07-8355a32e6f4e');\n",
              "        const dataTable =\n",
              "          await google.colab.kernel.invokeFunction('convertToInteractive',\n",
              "                                                    [key], {});\n",
              "        if (!dataTable) return;\n",
              "\n",
              "        const docLinkHtml = 'Like what you see? Visit the ' +\n",
              "          '<a target=\"_blank\" href=https://colab.research.google.com/notebooks/data_table.ipynb>data table notebook</a>'\n",
              "          + ' to learn more about interactive tables.';\n",
              "        element.innerHTML = '';\n",
              "        dataTable['output_type'] = 'display_data';\n",
              "        await google.colab.output.renderOutput(dataTable, element);\n",
              "        const docLink = document.createElement('div');\n",
              "        docLink.innerHTML = docLinkHtml;\n",
              "        element.appendChild(docLink);\n",
              "      }\n",
              "    </script>\n",
              "  </div>\n",
              "\n",
              "\n",
              "<div id=\"df-ba76a3fb-46c9-4cb9-adbc-1ced93d2a152\">\n",
              "  <button class=\"colab-df-quickchart\" onclick=\"quickchart('df-ba76a3fb-46c9-4cb9-adbc-1ced93d2a152')\"\n",
              "            title=\"Suggest charts.\"\n",
              "            style=\"display:none;\">\n",
              "\n",
              "<svg xmlns=\"http://www.w3.org/2000/svg\" height=\"24px\"viewBox=\"0 0 24 24\"\n",
              "     width=\"24px\">\n",
              "    <g>\n",
              "        <path d=\"M19 3H5c-1.1 0-2 .9-2 2v14c0 1.1.9 2 2 2h14c1.1 0 2-.9 2-2V5c0-1.1-.9-2-2-2zM9 17H7v-7h2v7zm4 0h-2V7h2v10zm4 0h-2v-4h2v4z\"/>\n",
              "    </g>\n",
              "</svg>\n",
              "  </button>\n",
              "\n",
              "<style>\n",
              "  .colab-df-quickchart {\n",
              "    background-color: #E8F0FE;\n",
              "    border: none;\n",
              "    border-radius: 50%;\n",
              "    cursor: pointer;\n",
              "    display: none;\n",
              "    fill: #1967D2;\n",
              "    height: 32px;\n",
              "    padding: 0 0 0 0;\n",
              "    width: 32px;\n",
              "  }\n",
              "\n",
              "  .colab-df-quickchart:hover {\n",
              "    background-color: #E2EBFA;\n",
              "    box-shadow: 0px 1px 2px rgba(60, 64, 67, 0.3), 0px 1px 3px 1px rgba(60, 64, 67, 0.15);\n",
              "    fill: #174EA6;\n",
              "  }\n",
              "\n",
              "  [theme=dark] .colab-df-quickchart {\n",
              "    background-color: #3B4455;\n",
              "    fill: #D2E3FC;\n",
              "  }\n",
              "\n",
              "  [theme=dark] .colab-df-quickchart:hover {\n",
              "    background-color: #434B5C;\n",
              "    box-shadow: 0px 1px 3px 1px rgba(0, 0, 0, 0.15);\n",
              "    filter: drop-shadow(0px 1px 2px rgba(0, 0, 0, 0.3));\n",
              "    fill: #FFFFFF;\n",
              "  }\n",
              "</style>\n",
              "\n",
              "  <script>\n",
              "    async function quickchart(key) {\n",
              "      const charts = await google.colab.kernel.invokeFunction(\n",
              "          'suggestCharts', [key], {});\n",
              "    }\n",
              "    (() => {\n",
              "      let quickchartButtonEl =\n",
              "        document.querySelector('#df-ba76a3fb-46c9-4cb9-adbc-1ced93d2a152 button');\n",
              "      quickchartButtonEl.style.display =\n",
              "        google.colab.kernel.accessAllowed ? 'block' : 'none';\n",
              "    })();\n",
              "  </script>\n",
              "</div>\n",
              "    </div>\n",
              "  </div>\n"
            ]
          },
          "metadata": {},
          "execution_count": 79
        }
      ],
      "source": [
        "df2 = pd.read_csv('/content/drive/MyDrive/Inteligencia Artificial/Life Expectancy Data.csv')\n",
        "df2.head()"
      ]
    },
    {
      "cell_type": "code",
      "execution_count": null,
      "metadata": {
        "id": "GXK13GxK2vK3"
      },
      "outputs": [],
      "source": [
        "Status = df2['Status']\n",
        "df2 = df2.drop(['Country','Year','Status','Adult Mortality','Hepatitis B','Polio', 'GDP', 'Income composition of resources'],axis=1)"
      ]
    },
    {
      "cell_type": "code",
      "execution_count": null,
      "metadata": {
        "colab": {
          "base_uri": "https://localhost:8080/",
          "height": 261
        },
        "id": "4omnPRwX55V9",
        "outputId": "a4a3c8d5-d4af-43c6-8356-675dd062c401"
      },
      "outputs": [
        {
          "output_type": "execute_result",
          "data": {
            "text/plain": [
              "   Life expectancy   infant deaths  Alcohol  percentage expenditure  Measles   \\\n",
              "0              65.0             62     0.01               71.279624      1154   \n",
              "1              59.9             64     0.01               73.523582       492   \n",
              "2              59.9             66     0.01               73.219243       430   \n",
              "3              59.5             69     0.01               78.184215      2787   \n",
              "4              59.2             71     0.01                7.097109      3013   \n",
              "\n",
              "    BMI   under-five deaths   Total expenditure  Diphtheria    HIV/AIDS  \\\n",
              "0   19.1                  83               8.16         65.0        0.1   \n",
              "1   18.6                  86               8.18         62.0        0.1   \n",
              "2   18.1                  89               8.13         64.0        0.1   \n",
              "3   17.6                  93               8.52         67.0        0.1   \n",
              "4   17.2                  97               7.87         68.0        0.1   \n",
              "\n",
              "   Population   thinness  1-19 years   thinness 5-9 years  Schooling  \n",
              "0  33736494.0                   17.2                 17.3       10.1  \n",
              "1    327582.0                   17.5                 17.5       10.0  \n",
              "2  31731688.0                   17.7                 17.7        9.9  \n",
              "3   3696958.0                   17.9                 18.0        9.8  \n",
              "4   2978599.0                   18.2                 18.2        9.5  "
            ],
            "text/html": [
              "\n",
              "  <div id=\"df-eedb3545-7bbe-40ef-a22d-b96b94456a04\" class=\"colab-df-container\">\n",
              "    <div>\n",
              "<style scoped>\n",
              "    .dataframe tbody tr th:only-of-type {\n",
              "        vertical-align: middle;\n",
              "    }\n",
              "\n",
              "    .dataframe tbody tr th {\n",
              "        vertical-align: top;\n",
              "    }\n",
              "\n",
              "    .dataframe thead th {\n",
              "        text-align: right;\n",
              "    }\n",
              "</style>\n",
              "<table border=\"1\" class=\"dataframe\">\n",
              "  <thead>\n",
              "    <tr style=\"text-align: right;\">\n",
              "      <th></th>\n",
              "      <th>Life expectancy</th>\n",
              "      <th>infant deaths</th>\n",
              "      <th>Alcohol</th>\n",
              "      <th>percentage expenditure</th>\n",
              "      <th>Measles</th>\n",
              "      <th>BMI</th>\n",
              "      <th>under-five deaths</th>\n",
              "      <th>Total expenditure</th>\n",
              "      <th>Diphtheria</th>\n",
              "      <th>HIV/AIDS</th>\n",
              "      <th>Population</th>\n",
              "      <th>thinness  1-19 years</th>\n",
              "      <th>thinness 5-9 years</th>\n",
              "      <th>Schooling</th>\n",
              "    </tr>\n",
              "  </thead>\n",
              "  <tbody>\n",
              "    <tr>\n",
              "      <th>0</th>\n",
              "      <td>65.0</td>\n",
              "      <td>62</td>\n",
              "      <td>0.01</td>\n",
              "      <td>71.279624</td>\n",
              "      <td>1154</td>\n",
              "      <td>19.1</td>\n",
              "      <td>83</td>\n",
              "      <td>8.16</td>\n",
              "      <td>65.0</td>\n",
              "      <td>0.1</td>\n",
              "      <td>33736494.0</td>\n",
              "      <td>17.2</td>\n",
              "      <td>17.3</td>\n",
              "      <td>10.1</td>\n",
              "    </tr>\n",
              "    <tr>\n",
              "      <th>1</th>\n",
              "      <td>59.9</td>\n",
              "      <td>64</td>\n",
              "      <td>0.01</td>\n",
              "      <td>73.523582</td>\n",
              "      <td>492</td>\n",
              "      <td>18.6</td>\n",
              "      <td>86</td>\n",
              "      <td>8.18</td>\n",
              "      <td>62.0</td>\n",
              "      <td>0.1</td>\n",
              "      <td>327582.0</td>\n",
              "      <td>17.5</td>\n",
              "      <td>17.5</td>\n",
              "      <td>10.0</td>\n",
              "    </tr>\n",
              "    <tr>\n",
              "      <th>2</th>\n",
              "      <td>59.9</td>\n",
              "      <td>66</td>\n",
              "      <td>0.01</td>\n",
              "      <td>73.219243</td>\n",
              "      <td>430</td>\n",
              "      <td>18.1</td>\n",
              "      <td>89</td>\n",
              "      <td>8.13</td>\n",
              "      <td>64.0</td>\n",
              "      <td>0.1</td>\n",
              "      <td>31731688.0</td>\n",
              "      <td>17.7</td>\n",
              "      <td>17.7</td>\n",
              "      <td>9.9</td>\n",
              "    </tr>\n",
              "    <tr>\n",
              "      <th>3</th>\n",
              "      <td>59.5</td>\n",
              "      <td>69</td>\n",
              "      <td>0.01</td>\n",
              "      <td>78.184215</td>\n",
              "      <td>2787</td>\n",
              "      <td>17.6</td>\n",
              "      <td>93</td>\n",
              "      <td>8.52</td>\n",
              "      <td>67.0</td>\n",
              "      <td>0.1</td>\n",
              "      <td>3696958.0</td>\n",
              "      <td>17.9</td>\n",
              "      <td>18.0</td>\n",
              "      <td>9.8</td>\n",
              "    </tr>\n",
              "    <tr>\n",
              "      <th>4</th>\n",
              "      <td>59.2</td>\n",
              "      <td>71</td>\n",
              "      <td>0.01</td>\n",
              "      <td>7.097109</td>\n",
              "      <td>3013</td>\n",
              "      <td>17.2</td>\n",
              "      <td>97</td>\n",
              "      <td>7.87</td>\n",
              "      <td>68.0</td>\n",
              "      <td>0.1</td>\n",
              "      <td>2978599.0</td>\n",
              "      <td>18.2</td>\n",
              "      <td>18.2</td>\n",
              "      <td>9.5</td>\n",
              "    </tr>\n",
              "  </tbody>\n",
              "</table>\n",
              "</div>\n",
              "    <div class=\"colab-df-buttons\">\n",
              "\n",
              "  <div class=\"colab-df-container\">\n",
              "    <button class=\"colab-df-convert\" onclick=\"convertToInteractive('df-eedb3545-7bbe-40ef-a22d-b96b94456a04')\"\n",
              "            title=\"Convert this dataframe to an interactive table.\"\n",
              "            style=\"display:none;\">\n",
              "\n",
              "  <svg xmlns=\"http://www.w3.org/2000/svg\" height=\"24px\" viewBox=\"0 -960 960 960\">\n",
              "    <path d=\"M120-120v-720h720v720H120Zm60-500h600v-160H180v160Zm220 220h160v-160H400v160Zm0 220h160v-160H400v160ZM180-400h160v-160H180v160Zm440 0h160v-160H620v160ZM180-180h160v-160H180v160Zm440 0h160v-160H620v160Z\"/>\n",
              "  </svg>\n",
              "    </button>\n",
              "\n",
              "  <style>\n",
              "    .colab-df-container {\n",
              "      display:flex;\n",
              "      gap: 12px;\n",
              "    }\n",
              "\n",
              "    .colab-df-convert {\n",
              "      background-color: #E8F0FE;\n",
              "      border: none;\n",
              "      border-radius: 50%;\n",
              "      cursor: pointer;\n",
              "      display: none;\n",
              "      fill: #1967D2;\n",
              "      height: 32px;\n",
              "      padding: 0 0 0 0;\n",
              "      width: 32px;\n",
              "    }\n",
              "\n",
              "    .colab-df-convert:hover {\n",
              "      background-color: #E2EBFA;\n",
              "      box-shadow: 0px 1px 2px rgba(60, 64, 67, 0.3), 0px 1px 3px 1px rgba(60, 64, 67, 0.15);\n",
              "      fill: #174EA6;\n",
              "    }\n",
              "\n",
              "    .colab-df-buttons div {\n",
              "      margin-bottom: 4px;\n",
              "    }\n",
              "\n",
              "    [theme=dark] .colab-df-convert {\n",
              "      background-color: #3B4455;\n",
              "      fill: #D2E3FC;\n",
              "    }\n",
              "\n",
              "    [theme=dark] .colab-df-convert:hover {\n",
              "      background-color: #434B5C;\n",
              "      box-shadow: 0px 1px 3px 1px rgba(0, 0, 0, 0.15);\n",
              "      filter: drop-shadow(0px 1px 2px rgba(0, 0, 0, 0.3));\n",
              "      fill: #FFFFFF;\n",
              "    }\n",
              "  </style>\n",
              "\n",
              "    <script>\n",
              "      const buttonEl =\n",
              "        document.querySelector('#df-eedb3545-7bbe-40ef-a22d-b96b94456a04 button.colab-df-convert');\n",
              "      buttonEl.style.display =\n",
              "        google.colab.kernel.accessAllowed ? 'block' : 'none';\n",
              "\n",
              "      async function convertToInteractive(key) {\n",
              "        const element = document.querySelector('#df-eedb3545-7bbe-40ef-a22d-b96b94456a04');\n",
              "        const dataTable =\n",
              "          await google.colab.kernel.invokeFunction('convertToInteractive',\n",
              "                                                    [key], {});\n",
              "        if (!dataTable) return;\n",
              "\n",
              "        const docLinkHtml = 'Like what you see? Visit the ' +\n",
              "          '<a target=\"_blank\" href=https://colab.research.google.com/notebooks/data_table.ipynb>data table notebook</a>'\n",
              "          + ' to learn more about interactive tables.';\n",
              "        element.innerHTML = '';\n",
              "        dataTable['output_type'] = 'display_data';\n",
              "        await google.colab.output.renderOutput(dataTable, element);\n",
              "        const docLink = document.createElement('div');\n",
              "        docLink.innerHTML = docLinkHtml;\n",
              "        element.appendChild(docLink);\n",
              "      }\n",
              "    </script>\n",
              "  </div>\n",
              "\n",
              "\n",
              "<div id=\"df-0d17b871-cd8f-49c3-984a-567396aedafa\">\n",
              "  <button class=\"colab-df-quickchart\" onclick=\"quickchart('df-0d17b871-cd8f-49c3-984a-567396aedafa')\"\n",
              "            title=\"Suggest charts.\"\n",
              "            style=\"display:none;\">\n",
              "\n",
              "<svg xmlns=\"http://www.w3.org/2000/svg\" height=\"24px\"viewBox=\"0 0 24 24\"\n",
              "     width=\"24px\">\n",
              "    <g>\n",
              "        <path d=\"M19 3H5c-1.1 0-2 .9-2 2v14c0 1.1.9 2 2 2h14c1.1 0 2-.9 2-2V5c0-1.1-.9-2-2-2zM9 17H7v-7h2v7zm4 0h-2V7h2v10zm4 0h-2v-4h2v4z\"/>\n",
              "    </g>\n",
              "</svg>\n",
              "  </button>\n",
              "\n",
              "<style>\n",
              "  .colab-df-quickchart {\n",
              "    background-color: #E8F0FE;\n",
              "    border: none;\n",
              "    border-radius: 50%;\n",
              "    cursor: pointer;\n",
              "    display: none;\n",
              "    fill: #1967D2;\n",
              "    height: 32px;\n",
              "    padding: 0 0 0 0;\n",
              "    width: 32px;\n",
              "  }\n",
              "\n",
              "  .colab-df-quickchart:hover {\n",
              "    background-color: #E2EBFA;\n",
              "    box-shadow: 0px 1px 2px rgba(60, 64, 67, 0.3), 0px 1px 3px 1px rgba(60, 64, 67, 0.15);\n",
              "    fill: #174EA6;\n",
              "  }\n",
              "\n",
              "  [theme=dark] .colab-df-quickchart {\n",
              "    background-color: #3B4455;\n",
              "    fill: #D2E3FC;\n",
              "  }\n",
              "\n",
              "  [theme=dark] .colab-df-quickchart:hover {\n",
              "    background-color: #434B5C;\n",
              "    box-shadow: 0px 1px 3px 1px rgba(0, 0, 0, 0.15);\n",
              "    filter: drop-shadow(0px 1px 2px rgba(0, 0, 0, 0.3));\n",
              "    fill: #FFFFFF;\n",
              "  }\n",
              "</style>\n",
              "\n",
              "  <script>\n",
              "    async function quickchart(key) {\n",
              "      const charts = await google.colab.kernel.invokeFunction(\n",
              "          'suggestCharts', [key], {});\n",
              "    }\n",
              "    (() => {\n",
              "      let quickchartButtonEl =\n",
              "        document.querySelector('#df-0d17b871-cd8f-49c3-984a-567396aedafa button');\n",
              "      quickchartButtonEl.style.display =\n",
              "        google.colab.kernel.accessAllowed ? 'block' : 'none';\n",
              "    })();\n",
              "  </script>\n",
              "</div>\n",
              "    </div>\n",
              "  </div>\n"
            ]
          },
          "metadata": {},
          "execution_count": 81
        }
      ],
      "source": [
        "df2.head()"
      ]
    },
    {
      "cell_type": "code",
      "execution_count": null,
      "metadata": {
        "colab": {
          "base_uri": "https://localhost:8080/"
        },
        "id": "17Oj6bUrTc5g",
        "outputId": "91ec9fe0-4879-48d9-efab-86b22c6359be"
      },
      "outputs": [
        {
          "output_type": "execute_result",
          "data": {
            "text/plain": [
              "Life expectancy            10\n",
              "infant deaths               0\n",
              "Alcohol                   194\n",
              "percentage expenditure      0\n",
              "Measles                     0\n",
              " BMI                       34\n",
              "under-five deaths           0\n",
              "Total expenditure         226\n",
              "Diphtheria                 19\n",
              " HIV/AIDS                   0\n",
              "Population                652\n",
              " thinness  1-19 years      34\n",
              " thinness 5-9 years        34\n",
              "Schooling                 163\n",
              "dtype: int64"
            ]
          },
          "metadata": {},
          "execution_count": 82
        }
      ],
      "source": [
        "df2.isnull().sum()"
      ]
    },
    {
      "cell_type": "code",
      "execution_count": null,
      "metadata": {
        "id": "4tcMg2VCTogQ"
      },
      "outputs": [],
      "source": [
        "df2 = df2.dropna()"
      ]
    },
    {
      "cell_type": "code",
      "execution_count": null,
      "metadata": {
        "id": "7fa-eEax5ah2"
      },
      "outputs": [],
      "source": [
        "#Variables regresoras\n",
        "x2 = np.array(df2[df2.columns[1:]])\n",
        "y2 = np.array(df2['Life expectancy '])"
      ]
    },
    {
      "cell_type": "code",
      "execution_count": null,
      "metadata": {
        "colab": {
          "base_uri": "https://localhost:8080/"
        },
        "id": "tyAg89TwRfDB",
        "outputId": "202e492a-d556-411d-867e-88e51ec1d907"
      },
      "outputs": [
        {
          "output_type": "execute_result",
          "data": {
            "text/plain": [
              "0.8410412539356263"
            ]
          },
          "metadata": {},
          "execution_count": 85
        }
      ],
      "source": [
        "x_train, x_test, y_train, y_test = train_test_split(x2, y2, test_size = 0.2, random_state = 42)\n",
        "\n",
        "modelo = linear_model.LinearRegression()\n",
        "modelo.fit(x_train, y_train)\n",
        "modelo.score(x_test, y_test)"
      ]
    },
    {
      "cell_type": "markdown",
      "source": [
        "###Evalúa con validación cruzada un modelo de regresión lineal para las variables asignadas según tu matrícula utilizando alguna librería o framework."
      ],
      "metadata": {
        "id": "eVqKpD9lKMnj"
      }
    },
    {
      "cell_type": "code",
      "execution_count": null,
      "metadata": {
        "colab": {
          "base_uri": "https://localhost:8080/"
        },
        "id": "TrBRDVN5Y0GP",
        "outputId": "5569d196-aab2-44cb-e8b0-a63ba7756a1e"
      },
      "outputs": [
        {
          "output_type": "stream",
          "name": "stdout",
          "text": [
            "[0.83654792 0.78706151 0.78039393 0.75511714 0.7021512 ]\n"
          ]
        },
        {
          "output_type": "execute_result",
          "data": {
            "text/plain": [
              "0.7722543388301076"
            ]
          },
          "metadata": {},
          "execution_count": 87
        }
      ],
      "source": [
        "kfold_valid = KFold(5)\n",
        "resultados = cross_val_score(modelo, x2, y2, cv = kfold_valid)\n",
        "print(resultados)\n",
        "resultados.mean()"
      ]
    },
    {
      "cell_type": "markdown",
      "source": [
        "###Encuentra el número óptimo de predictores para el modelo utilizando el método filter y validación cruzada. Una vez que tengas el número óptimo, muestra las características seleccionadas."
      ],
      "metadata": {
        "id": "Z5b51IdfElpj"
      }
    },
    {
      "cell_type": "code",
      "execution_count": null,
      "metadata": {
        "colab": {
          "base_uri": "https://localhost:8080/"
        },
        "id": "Jn9Ba6U9ejih",
        "outputId": "152bae71-8f92-45de-c84a-92a5f78d1dd6"
      },
      "outputs": [
        {
          "output_type": "stream",
          "name": "stdout",
          "text": [
            "----- Optimal selection of number of features -----\n",
            "---- n features = 1\n",
            "MSE: 38.38501583618673  MAE: 4.692776730998428  R^2: 0.6070575673941725\n",
            "---- n features = 2\n",
            "MSE: 36.118160520601116  MAE: 4.601875661911336  R^2: 0.6281800401154182\n",
            "---- n features = 3\n",
            "MSE: 34.66320911823859  MAE: 4.493895230044286  R^2: 0.6442146536884739\n",
            "---- n features = 4\n",
            "MSE: 34.28426617969115  MAE: 4.4670731324881725  R^2: 0.6470652470738465\n",
            "---- n features = 5\n",
            "MSE: 33.09855487022878  MAE: 4.375188832241735  R^2: 0.6592276409457292\n",
            "---- n features = 6\n",
            "MSE: 33.21609477242763  MAE: 4.384948769812958  R^2: 0.6587219702790893\n",
            "---- n features = 7\n",
            "MSE: 32.92639168025022  MAE: 4.364426580308265  R^2: 0.6618280904001704\n",
            "---- n features = 8\n",
            "MSE: 33.073227367176955  MAE: 4.3760776911506944  R^2: 0.6587485879150881\n",
            "---- n features = 9\n",
            "MSE: 32.93164712232072  MAE: 4.35941375694865  R^2: 0.6636800219813379\n",
            "Numero de caracteristicas:  7\n",
            "Caracteristicas seleccionadas:  ['x4' 'x12']\n"
          ]
        }
      ],
      "source": [
        "# Find optimal number of features using cross-validation\n",
        "################################################################################\n",
        "print(\"----- Optimal selection of number of features -----\")\n",
        "n_feats = [1, 2, 3, 4, 5, 6, 7, 8, 9]\n",
        "mse_nfeat = []\n",
        "mae_nfeat = []\n",
        "r2_nfeat = []\n",
        "selected_features = []\n",
        "\n",
        "for n_feat in n_feats:\n",
        "  print('---- n features =', n_feat)\n",
        "  mse_cv = []\n",
        "  mae_cv = []\n",
        "  r2_cv = []\n",
        "\n",
        "  kf = KFold(n_splits=5, shuffle = True)\n",
        "  for train_index, test_index in kf.split(x2):\n",
        "    # Training phase\n",
        "    x_train = x2[train_index, :]\n",
        "    y_train = y2[train_index]\n",
        "    fselection_cv = SelectKBest(r_regression, k = n_feat)\n",
        "    fselection_cv.fit(x_train, y_train)\n",
        "    x_train = fselection_cv.transform(x_train)\n",
        "    regr_cv = linear_model.LinearRegression()\n",
        "    regr_cv.fit(x_train, y_train)\n",
        "    selected_features.append(fselection_cv.get_feature_names_out())\n",
        "\n",
        "    # Test phase\n",
        "    x_test = fselection_cv.transform(x2[test_index, :])\n",
        "    y_test = y2[test_index]\n",
        "    y_pred = regr_cv.predict(x_test)\n",
        "    mse_i = mean_squared_error(y_test, y_pred)\n",
        "    mse_cv.append(mse_i)\n",
        "    mae_i = mean_absolute_error(y_test, y_pred)\n",
        "    mae_cv.append(mae_i)\n",
        "    r2_i = r2_score(y_test, y_pred)\n",
        "    r2_cv.append(r2_i)\n",
        "\n",
        "  mse = np.average(mse_cv)\n",
        "  mse_nfeat.append(mse)\n",
        "  mae = np.average(mae_cv)\n",
        "  mae_nfeat.append(mae)\n",
        "  r2 = np.average(r2_cv)\n",
        "  r2_nfeat.append(r2)\n",
        "  print('MSE:', mse, ' MAE:', mae,' R^2:', r2)\n",
        "\n",
        "#Caracteristicas seleccionadas\n",
        "optimal_n_feat = n_feats[np.argmin(mse_nfeat)]\n",
        "optimal_selected_features = selected_features[optimal_n_feat]\n",
        "print(\"Numero de caracteristicas: \", optimal_n_feat)\n",
        "print(\"Caracteristicas seleccionadas: \", optimal_selected_features)"
      ]
    },
    {
      "cell_type": "markdown",
      "source": [
        "###Repite el paso anterior pero con selección de características secuencial (Wrapper). Reporta los predictores óptimos encontrados por el método."
      ],
      "metadata": {
        "id": "2iYELeGbEhOx"
      }
    },
    {
      "cell_type": "code",
      "source": [
        "# Find optimal number of features using cross-validation\n",
        "################################################################################\n",
        "print(\"----- Optimal selection of number of features -----\")\n",
        "n_feats = [1, 2, 3, 4, 5, 6, 7, 8, 9]\n",
        "mse_nfeat = []\n",
        "mae_nfeat = []\n",
        "r2_nfeat = []\n",
        "selected_features = []\n",
        "\n",
        "for n_feat in n_feats:\n",
        "  print('---- n features =', n_feat)\n",
        "  mse_cv = []\n",
        "  mae_cv = []\n",
        "  r2_cv = []\n",
        "\n",
        "  kf = KFold(n_splits=5, shuffle = True)\n",
        "  for train_index, test_index in kf.split(x2):\n",
        "    # Training phase\n",
        "    x_train = x2[train_index, :]\n",
        "    y_train = y2[train_index]\n",
        "    regr_cv = linear_model.LinearRegression()\n",
        "    fselection_cv = SequentialFeatureSelector(regr_cv, n_features_to_select=n_feat)\n",
        "    fselection_cv.fit(x_train, y_train)\n",
        "    x_train = fselection_cv.transform(x_train)\n",
        "    regr_cv.fit(x_train, y_train)\n",
        "    selected_features.append(fselection_cv.get_feature_names_out())\n",
        "\n",
        "    # Test phase\n",
        "    x_test = fselection_cv.transform(x2[test_index, :])\n",
        "    y_test = y2[test_index]\n",
        "    y_pred = regr_cv.predict(x_test)\n",
        "    mse_i = mean_squared_error(y_test, y_pred)\n",
        "    mse_cv.append(mse_i)\n",
        "    mae_i = mean_absolute_error(y_test, y_pred)\n",
        "    mae_cv.append(mae_i)\n",
        "    r2_i = r2_score(y_test, y_pred)\n",
        "    r2_cv.append(r2_i)\n",
        "\n",
        "  mse = np.average(mse_cv)\n",
        "  mse_nfeat.append(mse)\n",
        "  mae = np.average(mae_cv)\n",
        "  mae_nfeat.append(mae)\n",
        "  r2 = np.average(r2_cv)\n",
        "  r2_nfeat.append(r2)\n",
        "\n",
        "  print('MSE:', mse, ' MAE:', mae,' R^2:', r2)\n",
        "\n",
        "optimal_n_feat = n_feats[np.argmin(mse_nfeat)]\n",
        "optimal_selected_features = selected_features[optimal_n_feat]\n",
        "print(\"Numero de caracteristicas: \", optimal_n_feat)\n",
        "print(\"Caracteristicas seleccionadas: \", optimal_selected_features)"
      ],
      "metadata": {
        "colab": {
          "base_uri": "https://localhost:8080/"
        },
        "id": "epN8wO_ttb68",
        "outputId": "90f73ce4-fefd-4df1-bbdc-776bec26f10e"
      },
      "execution_count": null,
      "outputs": [
        {
          "output_type": "stream",
          "name": "stdout",
          "text": [
            "----- Optimal selection of number of features -----\n",
            "---- n features = 1\n",
            "MSE: 38.4323491348123  MAE: 4.6956261253618  R^2: 0.6055720052823526\n",
            "---- n features = 2\n",
            "MSE: 22.598318942243036  MAE: 3.6785621475700765  R^2: 0.7675482536349022\n",
            "---- n features = 3\n",
            "MSE: 21.888629258247455  MAE: 3.632868294359626  R^2: 0.7755011906887905\n",
            "---- n features = 4\n",
            "MSE: 20.618172825278805  MAE: 3.525139201151275  R^2: 0.7879793736666441\n",
            "---- n features = 5\n",
            "MSE: 19.963991521837094  MAE: 3.469864006310157  R^2: 0.7948662871561182\n",
            "---- n features = 6\n",
            "MSE: 20.048449341238577  MAE: 3.478220949910635  R^2: 0.7928897164368386\n",
            "---- n features = 7\n",
            "MSE: 19.987301043852106  MAE: 3.4757502715372133  R^2: 0.7940290277345191\n",
            "---- n features = 8\n",
            "MSE: 19.89142398552722  MAE: 3.467122449210083  R^2: 0.7957457956519913\n",
            "---- n features = 9\n",
            "MSE: 19.756254692901404  MAE: 3.457573648035467  R^2: 0.7964796893386925\n",
            "Numero de caracteristicas:  9\n",
            "Caracteristicas seleccionadas:  ['x8' 'x12']\n"
          ]
        }
      ]
    },
    {
      "cell_type": "markdown",
      "source": [
        "###Haz el mismo proceso del paso 2, pero ahora con el método de selección de características recursivo (Filter-Wrapper). Reporta los predictores óptimos encontrados por el método."
      ],
      "metadata": {
        "id": "v14JzzgMJuqm"
      }
    },
    {
      "cell_type": "code",
      "source": [
        "# Find optimal number of features using cross-validation\n",
        "################################################################################\n",
        "print(\"----- Optimal selection of number of features -----\")\n",
        "n_feats = [1, 2, 3, 4, 5, 6, 7, 8, 9]\n",
        "mse_nfeat = []\n",
        "mae_nfeat = []\n",
        "r2_nfeat = []\n",
        "selected_features = []\n",
        "\n",
        "for n_feat in n_feats:\n",
        "  print('---- n features =', n_feat)\n",
        "  mse_cv = []\n",
        "  mae_cv = []\n",
        "  r2_cv = []\n",
        "\n",
        "  kf = KFold(n_splits=5, shuffle = True)\n",
        "  for train_index, test_index in kf.split(x2):\n",
        "    # Training phase\n",
        "    x_train = x2[train_index, :]\n",
        "    y_train = y2[train_index]\n",
        "    regr_cv = linear_model.LinearRegression()\n",
        "    fselection_cv = RFE(regr_cv, n_features_to_select=n_feat)\n",
        "    fselection_cv.fit(x_train, y_train)\n",
        "    x_train = fselection_cv.transform(x_train)\n",
        "    regr_cv.fit(x_train, y_train)\n",
        "    selected_features.append(fselection_cv.get_feature_names_out())\n",
        "\n",
        "    # Test phase\n",
        "    x_test = fselection_cv.transform(x2[test_index, :])\n",
        "    y_test = y2[test_index]\n",
        "    y_pred = regr_cv.predict(x_test)\n",
        "    mse_i = mean_squared_error(y_test, y_pred)\n",
        "    mse_cv.append(mse_i)\n",
        "    mae_i = mean_absolute_error(y_test, y_pred)\n",
        "    mae_cv.append(mae_i)\n",
        "    r2_i = r2_score(y_test, y_pred)\n",
        "    r2_cv.append(r2_i)\n",
        "\n",
        "  mse = np.average(mse_cv)\n",
        "  mse_nfeat.append(mse)\n",
        "  mae = np.average(mae_cv)\n",
        "  mae_nfeat.append(mae)\n",
        "  r2 = np.average(r2_cv)\n",
        "  r2_nfeat.append(r2)\n",
        "\n",
        "  print('MSE:', mse, ' MAE:', mae,' R^2:', r2)\n",
        "\n",
        "optimal_n_feat = n_feats[np.argmin(mse_nfeat)]\n",
        "optimal_selected_features = selected_features[optimal_n_feat]\n",
        "print(\"Numero de caracteristicas: \", optimal_n_feat)\n",
        "print(\"Caracteristicas seleccionadas: \", optimal_selected_features)"
      ],
      "metadata": {
        "colab": {
          "base_uri": "https://localhost:8080/"
        },
        "id": "6sTEROaAzM17",
        "outputId": "463906a1-ad3d-419d-c6b0-7821de126c57"
      },
      "execution_count": null,
      "outputs": [
        {
          "output_type": "stream",
          "name": "stdout",
          "text": [
            "----- Optimal selection of number of features -----\n",
            "---- n features = 1\n",
            "MSE: 38.36524004511054  MAE: 4.69297627252656  R^2: 0.6069506145052562\n",
            "---- n features = 2\n",
            "MSE: 22.784903104849995  MAE: 3.6888693489977387  R^2: 0.7655869363721625\n",
            "---- n features = 3\n",
            "MSE: 22.292914234069162  MAE: 3.6654321707660946  R^2: 0.7708830331146387\n",
            "---- n features = 4\n",
            "MSE: 22.33391623155947  MAE: 3.6671300720218047  R^2: 0.7702713628940567\n",
            "---- n features = 5\n",
            "MSE: 21.498654161647135  MAE: 3.6076156515112245  R^2: 0.7788163024044984\n",
            "---- n features = 6\n",
            "MSE: 20.577200756571663  MAE: 3.5468354106743405  R^2: 0.7890675611771265\n",
            "---- n features = 7\n",
            "MSE: 20.021887939111544  MAE: 3.4990876186538236  R^2: 0.7944865856484787\n",
            "---- n features = 8\n",
            "MSE: 19.88831158820073  MAE: 3.4795689263620546  R^2: 0.7955990668334938\n",
            "---- n features = 9\n",
            "MSE: 19.4673870903137  MAE: 3.4392063086672544  R^2: 0.8001703534414389\n",
            "Numero de caracteristicas:  9\n",
            "Caracteristicas seleccionadas:  ['x8' 'x12']\n"
          ]
        }
      ]
    },
    {
      "cell_type": "markdown",
      "source": [
        "###Repita los pasos anteriores, pero utilizando un modelo de regresión no lineal como K-vecinos más cercanos.\n",
        "\n"
      ],
      "metadata": {
        "id": "M39vkl7WwodZ"
      }
    },
    {
      "cell_type": "code",
      "source": [
        "n_neighbors = 5\n",
        "#Modelo con K-vecinos\n",
        "knn = KNeighborsRegressor(n_neighbors)\n",
        "knn.fit(x_train,y_train)\n",
        "\n",
        "#Evaluacion con validacion cruzada\n",
        "resultados = cross_val_score(knn, x2, y2, cv = kfold_valid)\n",
        "print(resultados)\n",
        "resultados.mean()"
      ],
      "metadata": {
        "colab": {
          "base_uri": "https://localhost:8080/"
        },
        "id": "4MfyNcyN90fz",
        "outputId": "f673e1a4-17bf-4ad3-a213-46f42e505e1f"
      },
      "execution_count": null,
      "outputs": [
        {
          "output_type": "stream",
          "name": "stdout",
          "text": [
            "[-0.0782852  -0.39613559 -0.06282415 -0.39941551 -0.2862747 ]\n"
          ]
        },
        {
          "output_type": "execute_result",
          "data": {
            "text/plain": [
              "-0.24458702812720676"
            ]
          },
          "metadata": {},
          "execution_count": 33
        }
      ]
    },
    {
      "cell_type": "markdown",
      "source": [
        "####Metodo Filter"
      ],
      "metadata": {
        "id": "xx5h35l25bIL"
      }
    },
    {
      "cell_type": "code",
      "source": [
        "print(\"----- Optimal selection of number of features -----\")\n",
        "n_feats = [1, 2, 3, 4, 5, 6, 7, 8, 9]\n",
        "mse_nfeat_knn = []\n",
        "mae_nfeat_knn = []\n",
        "r2_nfeat_knn = []\n",
        "selected_features = []\n",
        "\n",
        "for n_feat in n_feats:\n",
        "  print('---- n features =', n_feat)\n",
        "  mse_cv_knn = []\n",
        "  mae_cv_knn = []\n",
        "  r2_cv_knn = []\n",
        "\n",
        "  kf = KFold(n_splits=5, shuffle = True)\n",
        "  for train_index, test_index in kf.split(x2):\n",
        "    # Training phase\n",
        "    x_train = x2[train_index, :]\n",
        "    y_train = y2[train_index]\n",
        "    fselection_cv = SelectKBest(r_regression, k = n_feat)\n",
        "    fselection_cv.fit(x_train, y_train)\n",
        "    x_train = fselection_cv.transform(x_train)\n",
        "    modelo_knn = KNeighborsRegressor()\n",
        "\n",
        "    modelo_knn.fit(x_train, y_train)\n",
        "\n",
        "    selected_features.append(fselection_cv.get_feature_names_out())\n",
        "\n",
        "    # Test phase\n",
        "    x_test = fselection_cv.transform(x2[test_index, :])\n",
        "    y_test = y2[test_index]\n",
        "    y_pred = modelo_knn.predict(x_test)\n",
        "    mse_i = mean_squared_error(y_test, y_pred)\n",
        "    mse_cv_knn.append(mse_i)\n",
        "    mae_i = mean_absolute_error(y_test, y_pred)\n",
        "    mae_cv_knn.append(mae_i)\n",
        "    r2_i = r2_score(y_test, y_pred)\n",
        "    r2_cv_knn.append(r2_i)\n",
        "\n",
        "  mse = np.average(mse_cv_knn)\n",
        "  mse_nfeat_knn.append(mse)\n",
        "  mae = np.average(mae_cv_knn)\n",
        "  mae_nfeat_knn.append(mae)\n",
        "  r2 = np.average(r2_cv_knn)\n",
        "  r2_nfeat_knn.append(r2)\n",
        "  print('MSE:', mse, ' MAE:', mae,' R^2:', r2)\n",
        "\n",
        "optimal_n_feat = n_feats[np.argmin(mse_nfeat_knn)]\n",
        "optimal_selected_features = selected_features[optimal_n_feat]\n",
        "print(\"Numero de caracteristicas: \", optimal_n_feat)\n",
        "print(\"Caracteristicas seleccionadas: \", optimal_selected_features)"
      ],
      "metadata": {
        "colab": {
          "base_uri": "https://localhost:8080/"
        },
        "id": "H8hhRj1j5e3b",
        "outputId": "6aaef2a2-0f06-4c5a-d67f-fb82ce79555c"
      },
      "execution_count": null,
      "outputs": [
        {
          "output_type": "stream",
          "name": "stdout",
          "text": [
            "----- Optimal selection of number of features -----\n",
            "---- n features = 1\n",
            "MSE: 43.89477784096822  MAE: 4.897087863363874  R^2: 0.5497925464325926\n",
            "---- n features = 2\n",
            "MSE: 27.71484243230404  MAE: 3.949812555140821  R^2: 0.7142012883843917\n",
            "---- n features = 3\n",
            "MSE: 25.582900359235385  MAE: 3.6422085058251326  R^2: 0.7368703866071512\n",
            "---- n features = 4\n",
            "MSE: 26.13038791358444  MAE: 3.6467616332994006  R^2: 0.7319254919746735\n",
            "---- n features = 5\n",
            "MSE: 35.46195204750594  MAE: 4.339784028956001  R^2: 0.6362373337803368\n",
            "---- n features = 6\n",
            "MSE: 33.90962028096369  MAE: 4.222191109602987  R^2: 0.6523680402369689\n",
            "---- n features = 7\n",
            "MSE: 101.42079899694605  MAE: 7.860153987105531  R^2: -0.039843531383883635\n",
            "---- n features = 8\n",
            "MSE: 100.24012616038908  MAE: 7.90192702183011  R^2: -0.03081188058962927\n",
            "---- n features = 9\n",
            "MSE: 104.5615567297817  MAE: 7.963741296233456  R^2: -0.07685165874492847\n",
            "Numero de caracteristicas:  3\n",
            "Caracteristicas seleccionadas:  ['x12']\n"
          ]
        }
      ]
    },
    {
      "cell_type": "markdown",
      "source": [
        "####Metodo Wrapper"
      ],
      "metadata": {
        "id": "wNtjk2X6DUsd"
      }
    },
    {
      "cell_type": "code",
      "source": [
        "# Find optimal number of features using cross-validation\n",
        "################################################################################\n",
        "print(\"----- Optimal selection of number of features -----\")\n",
        "n_feats = [1, 2, 3, 4, 5, 6, 7, 8, 9]\n",
        "mse_nfeat_knn = []\n",
        "mae_nfeat_knn = []\n",
        "r2_nfeat_knn = []\n",
        "selected_features = []\n",
        "\n",
        "for n_feat in n_feats:\n",
        "  print('---- n features =', n_feat)\n",
        "  mse_cv_knn = []\n",
        "  mae_cv_knn = []\n",
        "  r2_cv_knn = []\n",
        "\n",
        "  kf = KFold(n_splits=5, shuffle = True)\n",
        "  for train_index, test_index in kf.split(x2):\n",
        "    # Training phase\n",
        "    x_train = x2[train_index, :]\n",
        "    y_train = y2[train_index]\n",
        "    modelo_knn = KNeighborsRegressor()\n",
        "    fselection_cv = SequentialFeatureSelector(modelo_knn, n_features_to_select=n_feat)\n",
        "    fselection_cv.fit(x_train, y_train)\n",
        "    x_train = fselection_cv.transform(x_train)\n",
        "    modelo_knn.fit(x_train, y_train)\n",
        "    selected_features.append(fselection_cv.get_feature_names_out())\n",
        "\n",
        "    # Test phase\n",
        "    x_test = fselection_cv.transform(x2[test_index, :])\n",
        "    y_test = y2[test_index]\n",
        "    y_pred = modelo_knn.predict(x_test)\n",
        "    mse_i = mean_squared_error(y_test, y_pred)\n",
        "    mse_cv_knn.append(mse_i)\n",
        "    mae_i = mean_absolute_error(y_test, y_pred)\n",
        "    mae_cv_knn.append(mae_i)\n",
        "    r2_i = r2_score(y_test, y_pred)\n",
        "    r2_cv_knn.append(r2_i)\n",
        "\n",
        "  mse = np.average(mse_cv_knn)\n",
        "  mse_nfeat_knn.append(mse)\n",
        "  mae = np.average(mae_cv_knn)\n",
        "  mae_nfeat_knn.append(mae)\n",
        "  r2 = np.average(r2_cv_knn)\n",
        "  r2_nfeat_knn.append(r2)\n",
        "  print('MSE:', mse, ' MAE:', mae,' R^2:', r2)\n",
        "\n",
        "optimal_n_feat = n_feats[np.argmin(mse_nfeat_knn)]\n",
        "optimal_selected_features = selected_features[optimal_n_feat]\n",
        "print(\"Numero de caracteristicas: \", optimal_n_feat)\n",
        "print(\"Caracteristicas seleccionadas: \", optimal_selected_features)"
      ],
      "metadata": {
        "colab": {
          "base_uri": "https://localhost:8080/"
        },
        "id": "DmCPFTASDXqA",
        "outputId": "c349009d-7999-455a-9a44-38b54a50ad4b"
      },
      "execution_count": null,
      "outputs": [
        {
          "output_type": "stream",
          "name": "stdout",
          "text": [
            "----- Optimal selection of number of features -----\n",
            "---- n features = 1\n",
            "MSE: 42.50518286392942  MAE: 4.839374437280851  R^2: 0.5633298590780021\n",
            "---- n features = 2\n",
            "MSE: 16.97779161678543  MAE: 3.111074290238661  R^2: 0.8259533619493761\n",
            "---- n features = 3\n",
            "MSE: 9.567749207555705  MAE: 2.1022804660106322  R^2: 0.9019212714459883\n",
            "---- n features = 4\n",
            "MSE: 8.22676899445764  MAE: 1.925790476190476  R^2: 0.9158489689663831\n",
            "---- n features = 5\n",
            "MSE: 7.9160456332994  MAE: 1.8810202692003166  R^2: 0.9189768868890843\n",
            "---- n features = 6\n",
            "MSE: 8.488469386720958  MAE: 1.925200950118765  R^2: 0.9127970880196161\n",
            "---- n features = 7\n",
            "MSE: 9.869912309919691  MAE: 2.14486046827282  R^2: 0.8982904661982565\n",
            "---- n features = 8\n",
            "MSE: 10.450284109489875  MAE: 2.224169234249519  R^2: 0.8918731217579833\n",
            "---- n features = 9\n",
            "MSE: 22.647035042642237  MAE: 3.385084967763828  R^2: 0.768226535813203\n",
            "Numero de caracteristicas:  5\n",
            "Caracteristicas seleccionadas:  ['x8' 'x12']\n"
          ]
        }
      ]
    },
    {
      "cell_type": "markdown",
      "source": [
        "####Metodo Filter-Wrapper"
      ],
      "metadata": {
        "id": "2VaT1Bt1sU1u"
      }
    },
    {
      "cell_type": "code",
      "source": [
        "# Find optimal number of features using cross-validation\n",
        "################################################################################\n",
        "print(\"----- Optimal selection of number of features -----\")\n",
        "n_feats = [1, 2, 3, 4, 5, 6, 7, 8, 9]\n",
        "mse_nfeat_knn = []\n",
        "mae_nfeat_knn = []\n",
        "r2_nfeat_knn = []\n",
        "selected_features = []\n",
        "\n",
        "for n_feat in n_feats:\n",
        "  print('---- n features =', n_feat)\n",
        "  mse_cv_knn = []\n",
        "  mae_cv_knn = []\n",
        "  r2_cv_knn = []\n",
        "\n",
        "  kf = KFold(n_splits=5, shuffle = True)\n",
        "  for train_index, test_index in kf.split(x2):\n",
        "    # Training phase\n",
        "    x_train = x2[train_index, :]\n",
        "    y_train = y2[train_index]\n",
        "    modelo_knn = RandomForestRegressor()\n",
        "    fselection_cv = RFE(modelo_knn, n_features_to_select=n_feat)\n",
        "    fselection_cv.fit(x_train, y_train)\n",
        "    x_train = fselection_cv.transform(x_train)\n",
        "    modelo_knn.fit(x_train, y_train)\n",
        "    selected_features.append(fselection_cv.get_feature_names_out())\n",
        "\n",
        "    # Test phase\n",
        "    x_test = fselection_cv.transform(x2[test_index, :])\n",
        "    y_test = y2[test_index]\n",
        "    y_pred = modelo_knn.predict(x_test)\n",
        "    mse_i = mean_squared_error(y_test, y_pred)\n",
        "    mse_cv_knn.append(mse_i)\n",
        "    mae_i = mean_absolute_error(y_test, y_pred)\n",
        "    mae_cv_knn.append(mae_i)\n",
        "    r2_i = r2_score(y_test, y_pred)\n",
        "    r2_cv_knn.append(r2_i)\n",
        "\n",
        "  mse = np.average(mse_cv)\n",
        "  mse_nfeat_knn.append(mse)\n",
        "  mae = np.average(mae_cv)\n",
        "  mae_nfeat_knn.append(mae)\n",
        "  r2 = np.average(r2_cv)\n",
        "  r2_nfeat_knn.append(r2)\n",
        "\n",
        "  print('MSE:', mse, ' MAE:', mae,' R^2:', r2)\n",
        "\n",
        "optimal_n_feat = n_feats[np.argmin(mse_nfeat)]\n",
        "optimal_selected_features = selected_features[optimal_n_feat]\n",
        "print(\"Numero de caracteristicas: \", optimal_n_feat)\n",
        "print(\"Caracteristicas seleccionadas: \", optimal_selected_features)"
      ],
      "metadata": {
        "colab": {
          "base_uri": "https://localhost:8080/"
        },
        "id": "E9WcWhNRsZFS",
        "outputId": "5c97332c-99d3-4ae2-8729-913ff8e14506"
      },
      "execution_count": null,
      "outputs": [
        {
          "output_type": "stream",
          "name": "stdout",
          "text": [
            "----- Optimal selection of number of features -----\n",
            "---- n features = 1\n",
            "MSE: 19.4673870903137  MAE: 3.4392063086672544  R^2: 0.8001703534414389\n",
            "---- n features = 2\n",
            "MSE: 19.4673870903137  MAE: 3.4392063086672544  R^2: 0.8001703534414389\n",
            "---- n features = 3\n",
            "MSE: 19.4673870903137  MAE: 3.4392063086672544  R^2: 0.8001703534414389\n",
            "---- n features = 4\n",
            "MSE: 19.4673870903137  MAE: 3.4392063086672544  R^2: 0.8001703534414389\n",
            "---- n features = 5\n",
            "MSE: 19.4673870903137  MAE: 3.4392063086672544  R^2: 0.8001703534414389\n",
            "---- n features = 6\n",
            "MSE: 19.4673870903137  MAE: 3.4392063086672544  R^2: 0.8001703534414389\n",
            "---- n features = 7\n",
            "MSE: 19.4673870903137  MAE: 3.4392063086672544  R^2: 0.8001703534414389\n",
            "---- n features = 8\n",
            "MSE: 19.4673870903137  MAE: 3.4392063086672544  R^2: 0.8001703534414389\n",
            "---- n features = 9\n",
            "MSE: 19.4673870903137  MAE: 3.4392063086672544  R^2: 0.8001703534414389\n",
            "Numero de caracteristicas:  9\n",
            "Caracteristicas seleccionadas:  ['x8' 'x12']\n"
          ]
        }
      ]
    },
    {
      "cell_type": "markdown",
      "source": [
        "###Agregue la variables \"Status\" (segunda columna) como variable predictora, y utiliza un árbol de decisión para generar un modelo de regresión para la varible Life expectancy\". Evalúa este modelo con validación cruzada utilizando la métrica adecuada."
      ],
      "metadata": {
        "id": "_yj5NozNJaEo"
      }
    },
    {
      "cell_type": "code",
      "source": [
        "x2 = df2[df2.columns[1:]]\n",
        "x2['Status'] = Status\n",
        "y2 = df2['Life expectancy ']\n",
        "label_encoder = LabelEncoder()\n",
        "\n",
        "x2['Status'] = label_encoder.fit_transform(x2['Status'])\n",
        "\n",
        "\n",
        "x2 = np.array(x2)\n",
        "y2 = np.array(y2)"
      ],
      "metadata": {
        "id": "sVoOrbMnVxOV"
      },
      "execution_count": null,
      "outputs": []
    },
    {
      "cell_type": "code",
      "source": [
        "modelo = DecisionTreeRegressor()\n",
        "\n",
        "resultado = cross_val_score(modelo, x2, y2, cv=kfold_valid)\n",
        "print(\"Resultados de la validación cruzada: \", resultado)\n",
        "print(\"Promedio de los resultados: \",resultado.mean())"
      ],
      "metadata": {
        "colab": {
          "base_uri": "https://localhost:8080/"
        },
        "id": "tCgdX1ocYEoV",
        "outputId": "0911d483-568d-4ed1-a947-a86f6dc9f768"
      },
      "execution_count": null,
      "outputs": [
        {
          "output_type": "stream",
          "name": "stdout",
          "text": [
            "Resultados de la validación cruzada:  [0.78568721 0.60263486 0.76318608 0.7065489  0.80619694]\n",
            "Promedio de los resultados:  0.7328507943161643\n"
          ]
        }
      ]
    },
    {
      "cell_type": "markdown",
      "source": [
        "###Viendo los resultados de este ejercicio, escriba una conclusión sobre los siguientes puntos:"
      ],
      "metadata": {
        "id": "QD1dYp4lZufl"
      }
    },
    {
      "cell_type": "markdown",
      "source": [
        "**Consideras que el modelo de regresión lineal es adecuado para los datos.**\n",
        "\n",
        "Considero que el modelo lineal puede ser medianamente aceptable para interpretar estos datos, sin embargo considero que los modelos no lineales presentan mejores resultados\n",
        "\n",
        "**¿Qué método de selección de características consideras que funciona bien con los datos? ¿Por qué?**\n",
        "\n",
        "Considero que el metodo Wrapper es el que mejor se adapta a los datos debido a que es el que tiene menor medida de error (Tanto en MSE como en MAE) y es el que presenta una mayor exactitud\n",
        "\n",
        "\n",
        "**Del proceso de selección de características, ¿puedes identificar algunas que sean sobresalientes?**\n",
        "\n",
        "Las caracteristicas mas sobresalientes fueron x8 y x12 ( Diphtheria y thinness 5-9 years )\n",
        "\n",
        "**¿El modelo de regresión no lineal funcionó mejor que el lineal?**\n",
        "\n",
        "Si, la exactitud era mayor y las medidas de error eran menores en todos los metodos\n",
        "\n",
        "**¿Notas alguna mejora con el árbol de decisión al agregar la variable categórica \"Status\"?**\n",
        "\n",
        "El promedio de los resultados del modelo en comparación con el modelo de regresion lineal bajo.\n",
        "\n",
        "**¿Se puede concluir algo interesante sobre los resultados de modelar estos datos con regresión?**\n",
        "\n",
        "De los tres metodos aplicados, tanto para el modelo lineal como el no lineal x12 fue la variable que se presento en cada uno de estos. Ademas en el metodo filter-Wrapper con el modelo no lineal en cada iteración daba el mismo resultado"
      ],
      "metadata": {
        "id": "eNDnh7QpZwax"
      }
    }
  ],
  "metadata": {
    "colab": {
      "provenance": []
    },
    "kernelspec": {
      "display_name": "Python 3",
      "name": "python3"
    },
    "language_info": {
      "name": "python"
    }
  },
  "nbformat": 4,
  "nbformat_minor": 0
}